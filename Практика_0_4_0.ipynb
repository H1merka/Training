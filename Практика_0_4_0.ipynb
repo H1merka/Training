{
  "nbformat": 4,
  "nbformat_minor": 0,
  "metadata": {
    "colab": {
      "provenance": []
    },
    "kernelspec": {
      "name": "python3",
      "display_name": "Python 3"
    },
    "language_info": {
      "name": "python"
    }
  },
  "cells": [
    {
      "cell_type": "markdown",
      "source": [
        "Введите ваше ФИО: Моргенштерн Дмитрий Игоревич"
      ],
      "metadata": {
        "id": "k8oVfdwrMXyc"
      }
    },
    {
      "cell_type": "code",
      "execution_count": null,
      "metadata": {
        "id": "5mcBLsKMI1-5"
      },
      "outputs": [],
      "source": []
    },
    {
      "cell_type": "markdown",
      "source": [
        "***Дисклеймер***\n",
        "\n",
        "В данной практике запрещено использования функций:\n",
        "\n",
        "\n",
        "*   sum()\n",
        "*   min()\n",
        "*   max()\n",
        "*   average()\n",
        "*   reversed()\n",
        "*   sorted()\n",
        "*   готовые функции или библиотеки\n"
      ],
      "metadata": {
        "id": "8HbYUbm3Jw3o"
      }
    },
    {
      "cell_type": "markdown",
      "source": [
        "# **Задача 1:**"
      ],
      "metadata": {
        "id": "we2HyahuYvxm"
      }
    },
    {
      "cell_type": "markdown",
      "source": [
        "Интернет-магазин предлагает следующие условия скидок:\n",
        "\n",
        "*   Для заказов больше 1000 единиц, клиент получает скидку 5%. Если клиент использует промокод SUPERDISCOUNT, он получает скидку 10% (вместо 5%).\n",
        "*  Для заказов более 5000 единиц, клиент получает скидку 15%, а использование промокода SUPERDISCOUNT увеличивает скидку до 20% (вместо 15%).\n",
        "\n",
        "Этап 1:\n",
        "Ввод:\n",
        "```\n",
        "Введите стоимость единицы товара: 5\n",
        "Введите количество товара: 1001\n",
        "Введите промокод: GiVEMEDISCONT\n",
        "```\n",
        "\n",
        "Вывод:\n",
        "\n",
        "```\n",
        "Ваша скидка: 5%\n",
        "Итоговая сумма: 4754.75\n",
        "```\n",
        "Этап 2:\n",
        "\n",
        "Оформите ваш код в виде функции"
      ],
      "metadata": {
        "id": "HmX0c6YPJSQr"
      }
    },
    {
      "cell_type": "code",
      "source": [
        "def final_price():\n",
        "    price = int(input('Введите стоимость единицы товара: '))\n",
        "    amount = int(input('Введите количесвто товара: '))\n",
        "    promo = input('Введите промокод: ')\n",
        "\n",
        "    if amount > 1000:\n",
        "      discount = 5\n",
        "      if promo == 'SUPERDISCOUNT':\n",
        "        discount = 10\n",
        "    elif amount > 5000:\n",
        "      discount = 15\n",
        "      if promo == 'SUPERDISCOUNT':\n",
        "        discount = 20\n",
        "\n",
        "    total = (amount * price) - (amount * price * (discount / 100))\n",
        "    print(f'Ваша скидка: {discount}%')\n",
        "    print(f'Итоговая сумма: {round(total, 2)}')\n",
        "\n",
        "\n",
        "final_price()"
      ],
      "metadata": {
        "id": "OAIMIpklMN5D",
        "colab": {
          "base_uri": "https://localhost:8080/"
        },
        "outputId": "21d2345c-9546-4ded-ffb0-403a8577546b"
      },
      "execution_count": null,
      "outputs": [
        {
          "output_type": "stream",
          "name": "stdout",
          "text": [
            "Введите стоимость единицы товара: 5\n",
            "Введите количесвто товара: 1001\n",
            "Введите промокод: SUPERDISCOUNT\n",
            "Ваша скидка: 10%\n",
            "Итоговая сумма: 4504.5\n"
          ]
        }
      ]
    },
    {
      "cell_type": "markdown",
      "source": [
        "# **Задача 2:**\n"
      ],
      "metadata": {
        "id": "xmZNFqOuY1AA"
      }
    },
    {
      "cell_type": "markdown",
      "source": [
        "Этап 1:\n",
        "Напишите программу способную отфильтровать список и вывести только положительные элементы\n",
        "\n",
        "\n",
        "Ввод:\n",
        "```\n",
        "-1 5 1 2 -3\n",
        "```\n",
        "\n",
        "Вывод:\n",
        "\n",
        "```\n",
        "5 1 2\n",
        "```\n",
        "\n",
        "Этап 2:\n",
        "\n",
        "Оформите ваш код в виде функции"
      ],
      "metadata": {
        "id": "eeRVWpuLNGJ0"
      }
    },
    {
      "cell_type": "code",
      "source": [
        "def positive_elements():\n",
        "    elements_list = input('Введите числа: ').split()\n",
        "    number_list = []\n",
        "    positive_list = []\n",
        "    string_list = []\n",
        "\n",
        "    for element in elements_list:\n",
        "      extra_element1 = int(element)\n",
        "      number_list.append(extra_element1)\n",
        "\n",
        "    for element in number_list:\n",
        "      if element > 0:\n",
        "        positive_list.append(element)\n",
        "\n",
        "    for element in positive_list:\n",
        "      extra_element2 = str(element)\n",
        "      string_list.append(extra_element2)\n",
        "\n",
        "    print(' '.join(string_list))\n",
        "\n",
        "\n",
        "positive_elements()\n"
      ],
      "metadata": {
        "id": "Xbi6bL0WOE9N",
        "colab": {
          "base_uri": "https://localhost:8080/"
        },
        "outputId": "57c178e9-10bc-4d3a-ea13-01e9be6a90b7"
      },
      "execution_count": null,
      "outputs": [
        {
          "output_type": "stream",
          "name": "stdout",
          "text": [
            "Введите числа: -1 5 1 2 -3\n",
            "5 1 2\n"
          ]
        }
      ]
    },
    {
      "cell_type": "markdown",
      "source": [
        "# **Задача 3:**"
      ],
      "metadata": {
        "id": "KeriMGDLY5gt"
      }
    },
    {
      "cell_type": "markdown",
      "source": [
        "\n",
        "\n",
        "Этап 1:\n",
        "Напишите программу реализующую Алгоритм Евклида\n",
        "\n",
        "\n",
        "> Алгоритм Евклида – это алгоритм нахождения наибольшего общего делителя (НОД) пары целых чисел.\n",
        "\n",
        "\n",
        "\n",
        "Ввод:\n",
        "```\n",
        "30 18\n",
        "```\n",
        "\n",
        "Вывод:\n",
        "\n",
        "```\n",
        "6\n",
        "```\n",
        "\n",
        "Этап 2:\n",
        "Оформите ваш код в виде функции\n"
      ],
      "metadata": {
        "id": "lV-w6G-POa6F"
      }
    },
    {
      "cell_type": "code",
      "source": [
        "def algorithm():\n",
        "    a = int(input('Введите первое число: '))\n",
        "    b = int(input('Введите второе число: '))\n",
        "\n",
        "    while b:\n",
        "        a, b = b, a % b\n",
        "\n",
        "    print(f'Наибольший общий делитель: {a}')\n",
        "\n",
        "\n",
        "algorithm()"
      ],
      "metadata": {
        "id": "X2n6fnd91yt7",
        "colab": {
          "base_uri": "https://localhost:8080/"
        },
        "outputId": "8982fa0e-68de-46bf-9780-be415c2385a0"
      },
      "execution_count": null,
      "outputs": [
        {
          "output_type": "stream",
          "name": "stdout",
          "text": [
            "Введите первое число: 100\n",
            "Введите второе число: 10\n",
            "Наибольший общий делитель: 10\n"
          ]
        }
      ]
    },
    {
      "cell_type": "markdown",
      "source": [
        "# **Задача 4:**"
      ],
      "metadata": {
        "id": "Aa83ADofPcPZ"
      }
    },
    {
      "cell_type": "markdown",
      "source": [
        "Этап 1:\n",
        "Напишите функцию программу, которая принимает строку и возвращает список слов и количество их упомнинаний в предложении\n",
        "\n",
        "Этап 2:\n",
        "Оформите ваш код в виде функции\n",
        "\n",
        "Ввод:\n",
        "```\n",
        "apple banana apple\n",
        "```\n",
        "\n",
        "Вывод:\n",
        "\n",
        "```\n",
        "apple: 2,\n",
        "banana: 1\n",
        "```"
      ],
      "metadata": {
        "id": "WIfPFxpsO0zL"
      }
    },
    {
      "cell_type": "code",
      "source": [
        "string = 'apple banana apple'\n",
        "\n",
        "\n",
        "def find_words(string):\n",
        "\n",
        "    find_dict = {}\n",
        "\n",
        "    for word in string.split(' '):\n",
        "      if word in find_dict:\n",
        "            find_dict[word] += 1\n",
        "      else:\n",
        "            find_dict[word] = 1\n",
        "\n",
        "    result = [(word, count) for word, count in find_dict.items()]\n",
        "\n",
        "    for word, count in result:\n",
        "      print(f'{word}: {count}')\n",
        "\n",
        "\n",
        "find_words(string)"
      ],
      "metadata": {
        "id": "DgsmFeW5Po_x",
        "colab": {
          "base_uri": "https://localhost:8080/"
        },
        "outputId": "bf1b441b-7455-4a79-d912-a7fac77a26f7"
      },
      "execution_count": null,
      "outputs": [
        {
          "output_type": "stream",
          "name": "stdout",
          "text": [
            "apple: 2\n",
            "banana: 1\n"
          ]
        }
      ]
    },
    {
      "cell_type": "markdown",
      "source": [
        "# **Задача 5:**"
      ],
      "metadata": {
        "id": "4AQcChvUZDZI"
      }
    },
    {
      "cell_type": "markdown",
      "source": [
        "Этап 1:\n",
        "Детектор анаграмм Напишите программу на Python, которая принимает в качестве входных данных две строки и проверяет, являются ли они анаграммами друг друга\n",
        "\n",
        "Этап 2:\n",
        "Оформите ваш код в виде функции\n",
        "\n",
        "Ввод:\n",
        "```\n",
        "listen, silent\n",
        "```\n",
        "\n",
        "Вывод:\n",
        "\n",
        "```\n",
        "True\n",
        "```"
      ],
      "metadata": {
        "id": "5BmIJLUZP9I-"
      }
    },
    {
      "cell_type": "code",
      "source": [
        "str1 = 'listen'\n",
        "str2 = 'silent'\n",
        "\n",
        "\n",
        "def are_anagrams(str1, str2):\n",
        "    freq1 = {}\n",
        "    freq2 = {}\n",
        "\n",
        "    for char in str1:\n",
        "        if char in freq1:\n",
        "            freq1[char] += 1\n",
        "        else:\n",
        "            freq1[char] = 1\n",
        "\n",
        "    for char in str2:\n",
        "        if char in freq2:\n",
        "            freq2[char] += 1\n",
        "        else:\n",
        "            freq2[char] = 1\n",
        "\n",
        "    return freq1 == freq2\n",
        "\n",
        "\n",
        "are_anagrams(str1, str2)"
      ],
      "metadata": {
        "id": "7LNW8DuHQJwH",
        "colab": {
          "base_uri": "https://localhost:8080/"
        },
        "outputId": "ac27bd3d-802b-4cf5-f828-b6788af32bcc"
      },
      "execution_count": null,
      "outputs": [
        {
          "output_type": "execute_result",
          "data": {
            "text/plain": [
              "True"
            ]
          },
          "metadata": {},
          "execution_count": 30
        }
      ]
    },
    {
      "cell_type": "markdown",
      "source": [
        "# **Задача 6:**\n"
      ],
      "metadata": {
        "id": "ZlJgrovsZGGp"
      }
    },
    {
      "cell_type": "markdown",
      "source": [
        "Шифр ​​Цезаря\n",
        "\n",
        "Напишите программу на Python, которая реализует шифр Цезаря, простой метод шифрования, который заменяет каждую букву буквой на фиксированное количество позиций вниз по алфавиту. Программа должна запрашивать у пользователя сообщение и значение сдвига, а затем шифровать и расшифровывать сообщение.\n",
        "\n",
        "Этап 1:\n",
        "\n",
        "Напишите код для реализации данной задачи\n",
        "\n",
        "Этап 2:\n",
        "\n",
        "Оформите код в виде нескольких функций:\n",
        "\n",
        "* Зашифровывает сообщение\n",
        "* Расшифровывает сообщение"
      ],
      "metadata": {
        "id": "-SIWYSq2QKBh"
      }
    },
    {
      "cell_type": "code",
      "source": [
        "ALPHABET = 'абвгдеёжзийклмнопрстуфхцчшщъыьэюя'\n",
        "\n",
        "def encrypt(message, shift):\n",
        "    encrypted_message = ''\n",
        "    for char in message:\n",
        "        if char in ALPHABET:\n",
        "            position = ALPHABET.find(char)\n",
        "            new_position = (position + shift) % len(ALPHABET)\n",
        "            encrypted_message += ALPHABET[new_position]\n",
        "        else:\n",
        "            encrypted_message += char\n",
        "    return encrypted_message\n",
        "\n",
        "def decrypt(ciphertext, shift):\n",
        "    decrypted_message = ''\n",
        "    for char in ciphertext:\n",
        "        if char in ALPHABET:\n",
        "            position = ALPHABET.find(char)\n",
        "            new_position = (position - shift) % len(ALPHABET)\n",
        "            decrypted_message += ALPHABET[new_position]\n",
        "        else:\n",
        "            decrypted_message += char\n",
        "    return decrypted_message\n",
        "\n",
        "message_encrypt = input('Введите сообщение для шифрования: ')\n",
        "shift_encrypt = int(input('Введите сдвиг по алфавиту: '))\n",
        "print('Сообщение в зашифрованном виде:', encrypt(message_encrypt, shift_encrypt))\n",
        "message_decrypt = input('Введите сообщение для дешифрования: ')\n",
        "shift_decrypt = int(input('Введите сдвиг по алфавиту: '))\n",
        "print('Сообщение в расшифрованном виде:', decrypt(message_decrypt, shift_decrypt))"
      ],
      "metadata": {
        "id": "anThYirsQe6N",
        "colab": {
          "base_uri": "https://localhost:8080/"
        },
        "outputId": "5e32edf0-f4c8-43ad-ee34-0ac9e402f119"
      },
      "execution_count": null,
      "outputs": [
        {
          "output_type": "stream",
          "name": "stdout",
          "text": [
            "Введите сообщение для шифрования: здравствуй\n",
            "Введите сдвиг по алфавиту: 2\n",
            "Сообщение в зашифрованном виде: йётвдуфдхл\n",
            "Введите сообщение для дешифрования: йётвдуфдхл\n",
            "Введите сдвиг по алфавиту: 2\n",
            "Сообщение в расшифрованном виде: здравствуй\n"
          ]
        }
      ]
    },
    {
      "cell_type": "markdown",
      "source": [
        "# **Задача 7**"
      ],
      "metadata": {
        "id": "lm9TDmZhZIcU"
      }
    },
    {
      "cell_type": "markdown",
      "source": [
        "Задача: «Банковская система»\n",
        "\n",
        "Создайте программу Python, которая имитирует базовую банковскую систему. Система должна иметь следующие функции:\n",
        "\n",
        "Требования\n",
        "*   Система должна позволять клиентам создавать счета и хранить их балансы.\n",
        "*   Система должна позволять клиентам вносить и снимать деньги со своих счетов.\n",
        "*   Система должна позволять клиентам проверять свой текущий баланс.\n",
        "*   Система должна позволять клиентам переводить деньги между счетами.\n",
        "*   Система должна отслеживать транзакции (депозиты, снятия и переводы) и иметь возможность печатать детали транзакций.\n",
        "\n",
        "\n",
        "Задачи\n",
        "1. Реализуйте банковскую систему, используя только базовые конструкции Python, такие как def, lists, if, elif и else, без классов или словарей.\n",
        "Определите функции для создания счетов, внесения и снятия денег, получения балансов счетов, перевода денег между счетами, а также создания и печати транзакций.\n",
        "2. Напишите основную функцию, которая демонстрирует использование банковской системы путем создания счетов, внесения и снятия денег и перевода денег между счетами.\n",
        "3. Бонусное задание\n",
        "Реализуйте способ хранения и печати истории транзакций для каждого счета.\n",
        "\n",
        "Ограничения\n",
        "Не используйте классы или словари.\n",
        "Используйте только базовые конструкции Python, такие как def, lists, if, elif и else.\n"
      ],
      "metadata": {
        "id": "avFZRRXrQz9O"
      }
    },
    {
      "cell_type": "code",
      "source": [
        "accounts = []\n",
        "transactions = []\n",
        "\n",
        "def create_account():\n",
        "    account_number = len(accounts) + 1\n",
        "    balance = 0\n",
        "\n",
        "    accounts.append((account_number, balance))\n",
        "    transactions.append([])\n",
        "\n",
        "    print(f'Счет № {account_number} успешно создан.')\n",
        "\n",
        "def deposit_money(account_number, amount):\n",
        "    for i in range(len(accounts)):\n",
        "        if accounts[i][0] == account_number:\n",
        "            accounts[i] = (account_number, accounts[i][1] + amount)\n",
        "\n",
        "            transaction = f'Внесено {amount}'\n",
        "            transactions[i].append(transaction)\n",
        "\n",
        "            print(f'{amount} внесено на счет № {account_number}. Текущий баланс: {accounts[i][1]}')\n",
        "\n",
        "\n",
        "def withdraw_money(account_number, amount):\n",
        "    for i in range(len(accounts)):\n",
        "        if accounts[i][0] == account_number:\n",
        "            if accounts[i][1] >= amount:\n",
        "                accounts[i] = (account_number, accounts[i][1] - amount)\n",
        "\n",
        "                transaction = f'Снято {amount}'\n",
        "                transactions[i].append(transaction)\n",
        "\n",
        "                print(f'{amount} снято со счета № {account_number}. Текущий баланс: {accounts[i][1]}')\n",
        "            else:\n",
        "                print('Недостаточно средств на счете.')\n",
        "\n",
        "\n",
        "def check_balance(account_number):\n",
        "    for i in range(len(accounts)):\n",
        "        if accounts[i][0] == account_number:\n",
        "            print(f'Текущий баланс счета № {account_number}: {accounts[i][1]}')\n",
        "\n",
        "\n",
        "def transfer_money(from_account, to_account, amount):\n",
        "    from_index = None\n",
        "    to_index = None\n",
        "\n",
        "    for i in range(len(accounts)):\n",
        "        if accounts[i][0] == from_account:\n",
        "            from_index = i\n",
        "        if accounts[i][0] == to_account:\n",
        "            to_index = i\n",
        "\n",
        "    if from_index is not None and to_index is not None:\n",
        "        if accounts[from_index][1] >= amount:\n",
        "            accounts[from_index] = (from_account, accounts[from_index][1] - amount)\n",
        "            accounts[to_index] = (to_account, accounts[to_index][1] + amount)\n",
        "\n",
        "            transaction_from = f'Переведено {amount} на счет № {to_account}'\n",
        "            transactions[from_index].append(transaction_from)\n",
        "\n",
        "            transaction_to = f'Поступило {amount} от счета № {from_account}'\n",
        "            transactions[to_index].append(transaction_to)\n",
        "\n",
        "            print(f'{amount} переведено со счета № {from_account} на счет № {to_account}.')\n",
        "        else:\n",
        "            print('Недостаточно средств на счете.')\n",
        "\n",
        "\n",
        "def print_transactions(account_number):\n",
        "    for i in range(len(accounts)):\n",
        "        if accounts[i][0] == account_number:\n",
        "            print(f'Транзакции для счета № {account_number}:')\n",
        "            for transaction in transactions[i]:\n",
        "                print(transaction)\n",
        "            return\n"
      ],
      "metadata": {
        "id": "dWEW10zIRwjs"
      },
      "execution_count": 6,
      "outputs": []
    },
    {
      "cell_type": "code",
      "source": [
        "create_account()\n",
        "create_account()\n",
        "\n",
        "deposit_money(1, 1000)\n",
        "deposit_money(2, 2000)\n",
        "\n",
        "check_balance(1)\n",
        "check_balance(2)\n",
        "\n",
        "withdraw_money(1, 500)\n",
        "withdraw_money(2, 1500)\n",
        "\n",
        "check_balance(1)\n",
        "check_balance(2)\n",
        "\n",
        "transfer_money(2, 1, 300)\n",
        "\n",
        "check_balance(1)\n",
        "check_balance(2)\n",
        "\n",
        "print_transactions(1)\n",
        "print_transactions(2)"
      ],
      "metadata": {
        "colab": {
          "base_uri": "https://localhost:8080/"
        },
        "id": "uhrmylVpKWsm",
        "outputId": "925de502-f16c-4797-b334-6c644f8eb765"
      },
      "execution_count": 7,
      "outputs": [
        {
          "output_type": "stream",
          "name": "stdout",
          "text": [
            "Счет № 1 успешно создан.\n",
            "Счет № 2 успешно создан.\n",
            "1000 внесено на счет № 1. Текущий баланс: 1000\n",
            "2000 внесено на счет № 2. Текущий баланс: 2000\n",
            "Текущий баланс счета № 1: 1000\n",
            "Текущий баланс счета № 2: 2000\n",
            "500 снято со счета № 1. Текущий баланс: 500\n",
            "1500 снято со счета № 2. Текущий баланс: 500\n",
            "Текущий баланс счета № 1: 500\n",
            "Текущий баланс счета № 2: 500\n",
            "300 переведено со счета № 2 на счет № 1.\n",
            "Текущий баланс счета № 1: 800\n",
            "Текущий баланс счета № 2: 200\n",
            "Транзакции для счета № 1:\n",
            "Внесено 1000\n",
            "Снято 500\n",
            "Поступило 300 от счета № 2\n",
            "Транзакции для счета № 2:\n",
            "Внесено 2000\n",
            "Снято 1500\n",
            "Переведено 300 на счет № 1\n"
          ]
        }
      ]
    }
  ]
}