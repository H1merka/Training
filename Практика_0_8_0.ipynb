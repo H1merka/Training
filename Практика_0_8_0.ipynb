{
  "nbformat": 4,
  "nbformat_minor": 0,
  "metadata": {
    "colab": {
      "provenance": [],
      "collapsed_sections": [
        "ra45s33wUt-C",
        "ia9UtA0cU1Iy",
        "eecUb-akU1ji",
        "QGrsZrv5U1s8"
      ]
    },
    "kernelspec": {
      "name": "python3",
      "display_name": "Python 3"
    },
    "language_info": {
      "name": "python"
    }
  },
  "cells": [
    {
      "cell_type": "markdown",
      "source": [
        "Моргенштерн Дмитрий Игоревич"
      ],
      "metadata": {
        "id": "w1Z69eUAhvH2"
      }
    },
    {
      "cell_type": "markdown",
      "source": [
        "# Задание 1"
      ],
      "metadata": {
        "id": "ra45s33wUt-C"
      }
    },
    {
      "cell_type": "markdown",
      "source": [
        "Задача: Создать чат бота для получения информации об исследованиях космоса\n",
        "\n",
        "Описание: Создайте комплексное приложение командной строки, которое будет использоваться в качестве панели управления исследованиями космоса. Данное приложение будет обращаться к https://api.nasa.gov/ для предоставления пользователям набора информации о космосе, включая:\n",
        "\n",
        "- Астрономическая картинка дня (APOD): Отображение APOD с пояснениями к нему.\n",
        "- Фотографии с марсохода: позволяет пользователям выбирать и фильтровать фотографии с марсохода по дате и типу камеры.\n",
        "- Объекты, сближающиеся с Землей (ОСЗ): Поиск и отображение информации об объекте, сближающихся с Землей, на определенную дату, включая их размеры и потенциальную опасность.\n",
        "- Данные о космической погоде: Отображают последние данные о космической погоде, включая солнечные вспышки и геомагнитные бури.\n",
        "Приложение должно позволять пользователям ориентироваться в этих функциях, корректно обрабатывать ошибки и обеспечивать удобство работы.\n",
        "\n",
        "Требования:\n",
        "- Пользовательский ввод: Приложение должно предложить пользователю ввести данные, чтобы выбрать, какую функцию он хочет изучить.\n",
        "- Проверка данных: Убедитесь, что пользовательские данные (например, даты) проверены.\n",
        "- Обработка ошибок: Корректно обрабатывайте ошибки API и неверные ответы.\n",
        "- Представление данных: Представляйте данные в четкой и организованной форме.\n",
        "- Опция выхода: позволяет пользователям выходить из приложения в любое время."
      ],
      "metadata": {
        "id": "G56D5mNCUwp5"
      }
    },
    {
      "cell_type": "code",
      "execution_count": null,
      "metadata": {
        "id": "wGeJM9n4UqUD"
      },
      "outputs": [],
      "source": [
        "import requests\n",
        "from datetime import datetime, timedelta\n",
        "\n",
        "\n",
        "def get_apod():\n",
        "    \"\"\"Получает астрономическую картинку дня.\"\"\"\n",
        "    url = f'https://api.nasa.gov/planetary/apod?api_key=vRuzWceW4aRgOzVLSbDQtYNMKoM32QOIZdOapQhj'\n",
        "    response = requests.get(url)\n",
        "\n",
        "    if response.status_code == 200:\n",
        "        data = response.json()\n",
        "        print(f\"Тема: {data['title']}\")\n",
        "        print(f\"Пояснение: {data['explanation']}\")\n",
        "        print(f\"Ссылка на изображение: {data['hdurl']}\")\n",
        "    else:\n",
        "        print(\"Ошибка при получении информации.\")\n",
        "\n",
        "\n",
        "def get_mars_rover_photos(date, camera):\n",
        "    \"\"\"Получает фотографии с марсохода на указанную дату и камерой.\"\"\"\n",
        "    url = f'https://api.nasa.gov/mars-photos/api/v1/rovers/curiosity/photos?earth_date={date}&camera={camera}&api_key=vRuzWceW4aRgOzVLSbDQtYNMKoM32QOIZdOapQhj'\n",
        "    response = requests.get(url)\n",
        "\n",
        "    if response.status_code == 200:\n",
        "        data = response.json()\n",
        "\n",
        "        if len(data[\"photos\"]) > 0:\n",
        "            for photo in data[\"photos\"]:\n",
        "                print(f'Фото ID: {photo[\"id\"]}')\n",
        "                print(f'Камера: {photo[\"camera\"][\"full_name\"]}')\n",
        "                print(f'Дата съемки: {photo[\"earth_date\"]}')\n",
        "                print(f'Ссылка на фото: {photo[\"img_src\"]}\\n')\n",
        "        else:\n",
        "            print(\"На эту дату нет фотографий с указанной камерой.\")\n",
        "    else:\n",
        "        print(\"Ошибка при получении информации.\")\n",
        "\n",
        "\n",
        "def get_neo_info(date):\n",
        "    \"\"\"Получает информацию об объектах, сближающихся с Землей на указанную дату.\"\"\"\n",
        "    start_date = date.strftime(\"%Y-%m-%d\")\n",
        "    end_date = (date + timedelta(days=1)).strftime(\"%Y-%m-%d\")\n",
        "    url = f'https://api.nasa.gov/neo/rest/v1/feed?start_date={start_date}&end_date={end_date}&api_key=vRuzWceW4aRgOzVLSbDQtYNMKoM32QOIZdOapQhj'\n",
        "    response = requests.get(url)\n",
        "\n",
        "    if response.status_code == 200:\n",
        "        data = response.json()\n",
        "\n",
        "        if len(data[\"near_earth_objects\"][start_date]) > 0:\n",
        "            for neo in data[\"near_earth_objects\"][start_date]:\n",
        "                print(f'Название: {neo[\"name\"]}')\n",
        "                print(f'Минимальное расстояние до Земли: {neo[\"close_approach_data\"][0][\"miss_distance\"][\"kilometers\"]} км')\n",
        "                print(f'Диаметр: {neo[\"estimated_diameter\"][\"meters\"][\"estimated_diameter_max\"]} м\\n')\n",
        "        else:\n",
        "            print(\"На эту дату нет объектов, сближающихся с Землей.\")\n",
        "    else:\n",
        "        print(\"Ошибка при получении информации.\")\n",
        "\n",
        "\n",
        "def get_space_weather():\n",
        "    \"\"\"Получает данные о космической погоде.\"\"\"\n",
        "    url = f'https://api.nasa.gov/DONKI/notifications?limit=10&api_key=vRuzWceW4aRgOzVLSbDQtYNMKoM32QOIZdOapQhj'\n",
        "    response = requests.get(url)\n",
        "\n",
        "    if response.status_code == 200:\n",
        "        data = response.json()\n",
        "\n",
        "        for event in data:\n",
        "            if event[\"messageType\"] == \"FLR\":\n",
        "                print(f'Тип события: Солнечная вспышка')\n",
        "                print(f'Дата: {event[\"messageIssueTime\"]}')\n",
        "                print(f'Ссылка на сообщение: {event[\"messageURL\"]}\\n')\n",
        "            elif event[\"messageType\"] == \"MPC\":\n",
        "                print(f'Тип события: Геомагнитная буря')\n",
        "                print(f'Дата: {event[\"messageIssueTime\"]}')\n",
        "                print(f'Ссылка на сообщение: {event[\"messageURL\"]}\\n')\n",
        "\n",
        "    else:\n",
        "        print(\"Ошибка при получении информации.\")\n",
        "\n",
        "\n",
        "def validate_date(input_date):\n",
        "    \"\"\"Проверяет правильность формата даты.\"\"\"\n",
        "    try:\n",
        "        return datetime.strptime(input_date, '%Y-%m-%d').date()\n",
        "    except ValueError:\n",
        "        return None\n"
      ]
    },
    {
      "cell_type": "code",
      "source": [
        "\"\"\"Главное меню.\"\"\"\n",
        "while True:\n",
        "    print('1. Астрономическая картинка дня')\n",
        "    print('2. Фотографии с марсохода')\n",
        "    print('3. Объекты сближающиеся с Землей')\n",
        "    print('4. Данные о космической погоде')\n",
        "    print('0. Выход из программы')\n",
        "    choice = input(\"Выберите пункт меню: \")\n",
        "\n",
        "    if choice == '1':\n",
        "        get_apod()\n",
        "\n",
        "    elif choice == '2':\n",
        "        date = input(\"Укажите дату (YYYY-MM-DD): \")\n",
        "        camera = input(\"Укажите камеру (FHAZ, RHAZ, MAST, CHEMCAM, MAHLI, MARDI, NAVCAM, PANCAM, MINITES): \")\n",
        "        valid_date = validate_date(date)\n",
        "        if valid_date is not None:\n",
        "            get_mars_rover_photos(valid_date, camera)\n",
        "        else:\n",
        "            print(\"Неверная дата. Формат должен быть YYYY-MM-DD.\")\n",
        "\n",
        "    elif choice == '3':\n",
        "        date = input(\"Укажите дату (YYYY-MM-DD): \")\n",
        "        valid_date = validate_date(date)\n",
        "        if valid_date is not None:\n",
        "            get_neo_info(valid_date)\n",
        "        else:\n",
        "            print(\"Неверная дата. Формат должен быть YYYY-MM-DD.\")\n",
        "\n",
        "    elif choice == '4':\n",
        "        get_space_weather()\n",
        "\n",
        "    elif choice == '0':\n",
        "        break\n",
        "\n",
        "    else:\n",
        "        print(\"Некорректный выбор. Попробуйте еще раз.\")\n"
      ],
      "metadata": {
        "colab": {
          "base_uri": "https://localhost:8080/"
        },
        "id": "IhW7ZHkPiBN7",
        "outputId": "fedbe0cf-cbea-403f-8d84-a5a355566ebc"
      },
      "execution_count": null,
      "outputs": [
        {
          "name": "stdout",
          "output_type": "stream",
          "text": [
            "1. Астрономическая картинка дня\n",
            "2. Фотографии с марсохода\n",
            "3. Объекты сближающиеся с Землей\n",
            "4. Данные о космической погоде\n",
            "0. Выход из программы\n",
            "Выберите пункт меню: 1\n",
            "Тема: Near to the Heart Nebula\n",
            "Пояснение: What excites the Heart Nebula? First, the large emission nebula on the upper left, catalogued as IC 1805, looks somewhat like a human heart.  The nebula glows brightly in red light emitted by its most prominent element, hydrogen, but this long-exposure image was also blended with light emitted by sulfur (yellow) and oxygen (blue).  In the center of the Heart Nebula are young stars from the open star cluster Melotte 15 that are eroding away several picturesque dust pillars with their atom-exciting energetic light and winds. The Heart Nebula is located about 7,500 light years away toward the constellation of Cassiopeia.  This wide field image shows much more, though, including the Fishhead Nebula just below the Heart, a supernova remnant on the lower left, and three planetary nebulas on the image right.  Taken over 57 nights, this image is so deep, though, that it clearly shows fainter long and complex filaments.\n",
            "Ссылка на изображение: https://apod.nasa.gov/apod/image/2412/Heart_HorneEvans_4096.jpg\n",
            "1. Астрономическая картинка дня\n",
            "2. Фотографии с марсохода\n",
            "3. Объекты сближающиеся с Землей\n",
            "4. Данные о космической погоде\n",
            "0. Выход из программы\n",
            "Выберите пункт меню: 0\n"
          ]
        }
      ]
    },
    {
      "cell_type": "markdown",
      "source": [
        "# Задание 2"
      ],
      "metadata": {
        "id": "ia9UtA0cU1Iy"
      }
    },
    {
      "cell_type": "markdown",
      "source": [
        "Описание задачи\n",
        "\n",
        "Цель этой задачи - создать скрипт на Python, который взаимодействует с API Чикагского института искусств (https://api.artic.edu/docs/) для извлечения и отображения произведений искусства. Скрипт должен позволять пользователям просматривать работы по страницам, фильтровать их по имени художника и просматривать подробную информацию о выбранных произведениях искусства. Ниже приведены требования и функциональные возможности, которые необходимо реализовать:\n",
        "\n",
        "Требования:\n",
        "Извлекать произведения искусства:\n",
        "\n",
        "- Создайте функцию, которая извлекает список произведений искусства из API Чикагского института искусств.\n",
        "Функция должна принимать параметр page для разбивки на страницы и возвращать список произведений искусства вместе с информацией о разбивке на страницы.\n",
        "Фильтровать произведения искусства:\n",
        "\n",
        "- Реализуйте функцию, которая фильтрует список произведений искусства на основе имени указанного художника. Функция должна возвращать список работ, которые соответствуют имени художника (без учета регистра).\n",
        "Отображать подробную информацию об оформлении:\n",
        "\n",
        "- Напишите функцию, которая отображает названия работ для пользователя и позволяет ему выбрать одну из них, введя соответствующий номер.\n",
        "После выбора функция должна отображать подробную информацию о выбранном произведении, включая название, исполнителя, дату и носитель.\n",
        "Разбивка на страницы и взаимодействие с пользователем:\n",
        "\n",
        "- Создайте основную функцию, которая управляет выборкой произведений и взаимодействием с пользователем.\n",
        "\n",
        "Разрешите пользователям перемещаться по страницам с произведениями искусства, выполнять фильтрацию по исполнителю или выходить из программы.\n",
        "\n",
        "Если страниц с произведениями искусства несколько, укажите варианты перехода к следующей странице, предыдущей странице, фильтрации по исполнителю или выхода из программы."
      ],
      "metadata": {
        "id": "Ofu_GmqrU1Iy"
      }
    },
    {
      "cell_type": "code",
      "execution_count": null,
      "metadata": {
        "id": "jjUH1GznU1Iy"
      },
      "outputs": [],
      "source": [
        "import requests\n",
        "\n",
        "\n",
        "# Константы для взаимодействия с API.\n",
        "API_URL = 'https://api.artic.edu/api/v1/artworks'\n",
        "PAGE_SIZE = 10\n",
        "\n",
        "\n",
        "def get_artworks(page=1):\n",
        "    \"\"\"Получаем список произведений искусства по указанной странице.\"\"\"\n",
        "    params = {\n",
        "        'fields': 'title,image_id,artist_title,date_display,medium_display',\n",
        "        'limit': PAGE_SIZE,\n",
        "        'page': page\n",
        "    }\n",
        "    response = requests.get(API_URL, params=params)\n",
        "    if response.status_code == 200:\n",
        "        data = response.json()\n",
        "        return data['data'], data['pagination']\n",
        "    else:\n",
        "        print(f'Ошибка при получении данных: {response.text}')\n",
        "\n",
        "\n",
        "def filter_by_artist(artworks, artist_name):\n",
        "    \"\"\"Фильтруем список произведений по имени художника.\"\"\"\n",
        "    filtered_artworks = []\n",
        "    for artwork in artworks:\n",
        "        if artist_name.lower() in artwork['artist_title'].lower():\n",
        "            filtered_artworks.append(artwork)\n",
        "    return filtered_artworks\n",
        "\n",
        "\n",
        "def display_detail_info(artwork):\n",
        "    \"\"\"Выводим подробную информацию о произведении искусства.\"\"\"\n",
        "    print(f\"\\nНазвание: {artwork['title']}\")\n",
        "    print(f\"Исполнитель: {artwork['artist_title']}\")\n",
        "    print(f\"Дата создания: {artwork['date_display']}\")\n",
        "    print(f\"Носитель: {artwork['medium_display']}\")\n",
        "\n",
        "\n",
        "def show_artworks(artworks):\n",
        "    \"\"\"Показываем список произведений искусства пользователю.\"\"\"\n",
        "    if not artworks:\n",
        "        print(\"Нет произведений искусства для отображения.\")\n",
        "        return\n",
        "\n",
        "    for i, artwork in enumerate(artworks):\n",
        "        print(f\"{i + 1}. {artwork['title']} ({artwork['artist_title']})\")\n",
        "\n",
        "    choice = input(\"\\nВыберите произведение для просмотра деталей (или нажмите Enter для продолжения): \")\n",
        "    try:\n",
        "        index = int(choice) - 1\n",
        "        if 0 <= index < len(artworks):\n",
        "            display_detail_info(artworks[index])\n",
        "    except ValueError:\n",
        "        pass\n"
      ]
    },
    {
      "cell_type": "code",
      "source": [
        "def main():\n",
        "    \"\"\"Основная функция-интерфейс.\"\"\"\n",
        "    current_page = 1\n",
        "    total_pages = 1\n",
        "\n",
        "    while True:\n",
        "        artworks, pagination = get_artworks(current_page)\n",
        "        total_pages = pagination['total_pages']\n",
        "\n",
        "        show_artworks(artworks)\n",
        "\n",
        "        if current_page == 1 and total_pages == 1:\n",
        "            break\n",
        "\n",
        "        print(\"\\nМеню:\")\n",
        "        print(\"1. Следующая страница\")\n",
        "        print(\"2. Предыдущая страница\")\n",
        "        print(\"3. Фильтр по художнику\")\n",
        "        print(\"4. Выход\")\n",
        "\n",
        "        choice = input(\"Введите ваш выбор: \")\n",
        "\n",
        "        if choice == '1':\n",
        "            if current_page < total_pages:\n",
        "                current_page += 1\n",
        "            else:\n",
        "                print(\"Это последняя страница.\")\n",
        "        elif choice == '2':\n",
        "            if current_page > 1:\n",
        "                current_page -= 1\n",
        "            else:\n",
        "                print(\"Это первая страница.\")\n",
        "        elif choice == '3':\n",
        "            artist_name = input(\"Введите имя художника: \").strip()\n",
        "            filtered_artworks = filter_by_artist(artworks, artist_name)\n",
        "            show_artworks(filtered_artworks)\n",
        "        elif choice == '4':\n",
        "            break\n",
        "        else:\n",
        "            print(\"Неправильный ввод. Попробуйте еще раз.\")\n",
        "\n",
        "\n",
        "# Пример использования.\n",
        "main()"
      ],
      "metadata": {
        "colab": {
          "base_uri": "https://localhost:8080/",
          "height": 1000
        },
        "id": "EAQfD1lCzVz4",
        "outputId": "29df0d72-bb56-4ac2-d8af-a15a7d5d5193"
      },
      "execution_count": null,
      "outputs": [
        {
          "output_type": "stream",
          "name": "stdout",
          "text": [
            "1. From Some Thames (Roni Horn)\n",
            "2. From Some Thames (Roni Horn)\n",
            "3. From Some Thames (Roni Horn)\n",
            "4. From Some Thames (Roni Horn)\n",
            "5. From Some Thames (Roni Horn)\n",
            "6. From Some Thames (Roni Horn)\n",
            "7. From Some Thames (Roni Horn)\n",
            "8. From Some Thames (Roni Horn)\n",
            "9. From Some Thames (Roni Horn)\n",
            "10. From Some Thames (Roni Horn)\n",
            "\n",
            "Выберите произведение для просмотра деталей (или нажмите Enter для продолжения): \n",
            "\n",
            "Меню:\n",
            "1. Следующая страница\n",
            "2. Предыдущая страница\n",
            "3. Фильтр по художнику\n",
            "4. Выход\n",
            "Введите ваш выбор: 3\n",
            "Введите имя художника: Roni Horn\n",
            "1. From Some Thames (Roni Horn)\n",
            "2. From Some Thames (Roni Horn)\n",
            "3. From Some Thames (Roni Horn)\n",
            "4. From Some Thames (Roni Horn)\n",
            "5. From Some Thames (Roni Horn)\n",
            "6. From Some Thames (Roni Horn)\n",
            "7. From Some Thames (Roni Horn)\n",
            "8. From Some Thames (Roni Horn)\n",
            "9. From Some Thames (Roni Horn)\n",
            "10. From Some Thames (Roni Horn)\n",
            "\n",
            "Выберите произведение для просмотра деталей (или нажмите Enter для продолжения): \n",
            "1. From Some Thames (Roni Horn)\n",
            "2. From Some Thames (Roni Horn)\n",
            "3. From Some Thames (Roni Horn)\n",
            "4. From Some Thames (Roni Horn)\n",
            "5. From Some Thames (Roni Horn)\n",
            "6. From Some Thames (Roni Horn)\n",
            "7. From Some Thames (Roni Horn)\n",
            "8. From Some Thames (Roni Horn)\n",
            "9. From Some Thames (Roni Horn)\n",
            "10. From Some Thames (Roni Horn)\n",
            "\n",
            "Выберите произведение для просмотра деталей (или нажмите Enter для продолжения): \n",
            "\n",
            "Меню:\n",
            "1. Следующая страница\n",
            "2. Предыдущая страница\n",
            "3. Фильтр по художнику\n",
            "4. Выход\n",
            "Введите ваш выбор: 1\n",
            "1. Portrait of Marevna (Diego Rivera)\n",
            "2. Interior at Nice (Henri Matisse)\n",
            "3. Untitled (Mark Rothko)\n",
            "4. Untitled (Brown and Gray) (Mark Rothko)\n",
            "5. Untitled (Mark Rothko)\n",
            "6. The Combat of the Giaour and Hassan (Eugène Delacroix)\n",
            "7. Jesus Mocked by the Soldiers (Édouard Manet)\n",
            "8. Armida Encounters the Sleeping Rinaldo (Giambattista Tiepolo)\n",
            "9. Landscape with Saint John on Patmos (Nicolas Poussin)\n",
            "10. Page 42 and Page 43, from Seconde Livre de Figures d’Académies Gravées en Partie par les Professeurs de l’Académie Royale (Gabriel Huquier)\n",
            "\n",
            "Выберите произведение для просмотра деталей (или нажмите Enter для продолжения): 1\n",
            "\n",
            "Название: Portrait of Marevna\n",
            "Исполнитель: Diego Rivera\n",
            "Дата создания: c. 1915\n",
            "Носитель: Oil on canvas\n",
            "\n",
            "Меню:\n",
            "1. Следующая страница\n",
            "2. Предыдущая страница\n",
            "3. Фильтр по художнику\n",
            "4. Выход\n"
          ]
        },
        {
          "output_type": "error",
          "ename": "KeyboardInterrupt",
          "evalue": "Interrupted by user",
          "traceback": [
            "\u001b[0;31m---------------------------------------------------------------------------\u001b[0m",
            "\u001b[0;31mKeyboardInterrupt\u001b[0m                         Traceback (most recent call last)",
            "\u001b[0;32m<ipython-input-27-b2279e6ff9b2>\u001b[0m in \u001b[0;36m<cell line: 44>\u001b[0;34m()\u001b[0m\n\u001b[1;32m     42\u001b[0m \u001b[0;34m\u001b[0m\u001b[0m\n\u001b[1;32m     43\u001b[0m \u001b[0;31m# Пример использования.\u001b[0m\u001b[0;34m\u001b[0m\u001b[0;34m\u001b[0m\u001b[0m\n\u001b[0;32m---> 44\u001b[0;31m \u001b[0mmain\u001b[0m\u001b[0;34m(\u001b[0m\u001b[0;34m)\u001b[0m\u001b[0;34m\u001b[0m\u001b[0;34m\u001b[0m\u001b[0m\n\u001b[0m",
            "\u001b[0;32m<ipython-input-27-b2279e6ff9b2>\u001b[0m in \u001b[0;36mmain\u001b[0;34m()\u001b[0m\n\u001b[1;32m     19\u001b[0m         \u001b[0mprint\u001b[0m\u001b[0;34m(\u001b[0m\u001b[0;34m\"4. Выход\"\u001b[0m\u001b[0;34m)\u001b[0m\u001b[0;34m\u001b[0m\u001b[0;34m\u001b[0m\u001b[0m\n\u001b[1;32m     20\u001b[0m \u001b[0;34m\u001b[0m\u001b[0m\n\u001b[0;32m---> 21\u001b[0;31m         \u001b[0mchoice\u001b[0m \u001b[0;34m=\u001b[0m \u001b[0minput\u001b[0m\u001b[0;34m(\u001b[0m\u001b[0;34m\"Введите ваш выбор: \"\u001b[0m\u001b[0;34m)\u001b[0m\u001b[0;34m\u001b[0m\u001b[0;34m\u001b[0m\u001b[0m\n\u001b[0m\u001b[1;32m     22\u001b[0m \u001b[0;34m\u001b[0m\u001b[0m\n\u001b[1;32m     23\u001b[0m         \u001b[0;32mif\u001b[0m \u001b[0mchoice\u001b[0m \u001b[0;34m==\u001b[0m \u001b[0;34m'1'\u001b[0m\u001b[0;34m:\u001b[0m\u001b[0;34m\u001b[0m\u001b[0;34m\u001b[0m\u001b[0m\n",
            "\u001b[0;32m/usr/local/lib/python3.10/dist-packages/ipykernel/kernelbase.py\u001b[0m in \u001b[0;36mraw_input\u001b[0;34m(self, prompt)\u001b[0m\n\u001b[1;32m    849\u001b[0m                 \u001b[0;34m\"raw_input was called, but this frontend does not support input requests.\"\u001b[0m\u001b[0;34m\u001b[0m\u001b[0;34m\u001b[0m\u001b[0m\n\u001b[1;32m    850\u001b[0m             )\n\u001b[0;32m--> 851\u001b[0;31m         return self._input_request(str(prompt),\n\u001b[0m\u001b[1;32m    852\u001b[0m             \u001b[0mself\u001b[0m\u001b[0;34m.\u001b[0m\u001b[0m_parent_ident\u001b[0m\u001b[0;34m,\u001b[0m\u001b[0;34m\u001b[0m\u001b[0;34m\u001b[0m\u001b[0m\n\u001b[1;32m    853\u001b[0m             \u001b[0mself\u001b[0m\u001b[0;34m.\u001b[0m\u001b[0m_parent_header\u001b[0m\u001b[0;34m,\u001b[0m\u001b[0;34m\u001b[0m\u001b[0;34m\u001b[0m\u001b[0m\n",
            "\u001b[0;32m/usr/local/lib/python3.10/dist-packages/ipykernel/kernelbase.py\u001b[0m in \u001b[0;36m_input_request\u001b[0;34m(self, prompt, ident, parent, password)\u001b[0m\n\u001b[1;32m    893\u001b[0m             \u001b[0;32mexcept\u001b[0m \u001b[0mKeyboardInterrupt\u001b[0m\u001b[0;34m:\u001b[0m\u001b[0;34m\u001b[0m\u001b[0;34m\u001b[0m\u001b[0m\n\u001b[1;32m    894\u001b[0m                 \u001b[0;31m# re-raise KeyboardInterrupt, to truncate traceback\u001b[0m\u001b[0;34m\u001b[0m\u001b[0;34m\u001b[0m\u001b[0m\n\u001b[0;32m--> 895\u001b[0;31m                 \u001b[0;32mraise\u001b[0m \u001b[0mKeyboardInterrupt\u001b[0m\u001b[0;34m(\u001b[0m\u001b[0;34m\"Interrupted by user\"\u001b[0m\u001b[0;34m)\u001b[0m \u001b[0;32mfrom\u001b[0m \u001b[0;32mNone\u001b[0m\u001b[0;34m\u001b[0m\u001b[0;34m\u001b[0m\u001b[0m\n\u001b[0m\u001b[1;32m    896\u001b[0m             \u001b[0;32mexcept\u001b[0m \u001b[0mException\u001b[0m \u001b[0;32mas\u001b[0m \u001b[0me\u001b[0m\u001b[0;34m:\u001b[0m\u001b[0;34m\u001b[0m\u001b[0;34m\u001b[0m\u001b[0m\n\u001b[1;32m    897\u001b[0m                 \u001b[0mself\u001b[0m\u001b[0;34m.\u001b[0m\u001b[0mlog\u001b[0m\u001b[0;34m.\u001b[0m\u001b[0mwarning\u001b[0m\u001b[0;34m(\u001b[0m\u001b[0;34m\"Invalid Message:\"\u001b[0m\u001b[0;34m,\u001b[0m \u001b[0mexc_info\u001b[0m\u001b[0;34m=\u001b[0m\u001b[0;32mTrue\u001b[0m\u001b[0;34m)\u001b[0m\u001b[0;34m\u001b[0m\u001b[0;34m\u001b[0m\u001b[0m\n",
            "\u001b[0;31mKeyboardInterrupt\u001b[0m: Interrupted by user"
          ]
        }
      ]
    },
    {
      "cell_type": "markdown",
      "source": [
        "# Задание 3"
      ],
      "metadata": {
        "id": "eecUb-akU1ji"
      }
    },
    {
      "cell_type": "markdown",
      "source": [
        "Задача: Создать программу по управлению портфелем криптовалют\n",
        "\n",
        "Цель: Создать скрипт на Python, который извлекает цены на криптовалюты в режиме реального времени, позволяет пользователям управлять портфелем криптовалют, вычисляет общую стоимость портфеля, отслеживает изменения цен и предоставляет исторические данные о ценах для анализа.\n",
        "\n",
        "Требования:\n",
        "Получение текущих цен на криптовалюты:\n",
        "\n",
        "Используйте https://docs.coingecko.com/ для получения актуальных цен на список криптовалют.\n",
        "\n",
        "Управление портфелем:\n",
        "\n",
        "- Позволяет пользователю создавать портфель криптовалют и управлять им, указывая количество каждой криптовалюты, которой он владеет.\n",
        "- Расчитывает общую стоимость портфеля в указанной фиатной валюте (например, долларах США).\n",
        "\n",
        "Отслеживание изменения цен:\n",
        "\n",
        "- Отображение процентного изменения цены для каждой криптовалюты в портфеле за последние 24 часа.\n",
        "- Выделите все криптовалюты, стоимость которых значительно увеличилась или снизилась.\n",
        "\n",
        "Поиск исторических данных о ценах:\n",
        "\n",
        "- Получение исторических данных о ценах на указанную криптовалюту за последнюю неделю.\n",
        "- Предоставьте пользователю возможность визуализировать эти данные в простом текстовом формате (например, цены за день).\n",
        "\n",
        "Взаимодействие с пользователем:\n",
        "\n",
        "- Реализуйте интерфейс командной строки для ввода данных пользователем.\n",
        "- Предоставьте опции для получения текущих цен, управления портфелем, просмотра изменений цен или анализа исторических данных.\n"
      ],
      "metadata": {
        "id": "jsK7IKptU1ji"
      }
    },
    {
      "cell_type": "code",
      "source": [],
      "metadata": {
        "id": "kKgVDjc5ZoDY"
      },
      "execution_count": null,
      "outputs": []
    },
    {
      "cell_type": "markdown",
      "source": [
        "# Дополнительно: Задание 4"
      ],
      "metadata": {
        "id": "QGrsZrv5U1s8"
      }
    },
    {
      "cell_type": "markdown",
      "source": [
        "Задание 4: Проектное\n",
        "\n",
        "Вам необходимо самостоятельно найти откртое API предоставляющее информацию в открытом доступе и реализовать собственный проект!\n",
        "\n",
        "\n",
        "Критерии приемки результата:\n",
        "\n",
        "- Проект включает в себя не менее 5 возможостей для пользователя\n",
        "- Проект позволяет использовать все возможности проекта пользователю при помощи взаимодействия через коммандную строку\n",
        "- Проект работает с открытым API (это значит что при проверке вашей работы преподавателем, преподавателю необходимо просто запустить ячейку с кодом вашего проекта и она будет работать без дополнительных манипуляции)\n",
        "- Проект должен обязательно включать в себя ряд используемых конструкции:\n",
        "    - Функции\n",
        "    - Условные конструкции\n",
        "    - Ввод/вывод\n",
        "    - Словари/Списки\n",
        "- Допускается использование библиотек:\n",
        "    - requests\n",
        "    - datetime\n",
        "    - random"
      ],
      "metadata": {
        "id": "qs_XITmYU1s8"
      }
    },
    {
      "cell_type": "markdown",
      "source": [
        "**Здесь добавьте описание вашего проекта**"
      ],
      "metadata": {
        "id": "VKXhaJi4FL0B"
      }
    },
    {
      "cell_type": "code",
      "execution_count": null,
      "metadata": {
        "id": "wiA55k1KU1s8"
      },
      "outputs": [],
      "source": [
        "#  А здесь код"
      ]
    }
  ]
}