{
  "nbformat": 4,
  "nbformat_minor": 0,
  "metadata": {
    "colab": {
      "provenance": []
    },
    "kernelspec": {
      "name": "python3",
      "display_name": "Python 3"
    },
    "language_info": {
      "name": "python"
    }
  },
  "cells": [
    {
      "cell_type": "markdown",
      "source": [
        "ФИО Моргенштерн Дмитрий Игоревич"
      ],
      "metadata": {
        "id": "phMKaFq3DN13"
      }
    },
    {
      "cell_type": "code",
      "execution_count": null,
      "metadata": {
        "id": "3CWpaI7SDK8t"
      },
      "outputs": [],
      "source": []
    },
    {
      "cell_type": "markdown",
      "source": [
        "**Во всей практике нельзя применять библиотеки предоставляющие готовые решения!**"
      ],
      "metadata": {
        "id": "jyIy3GOgFOCe"
      }
    },
    {
      "cell_type": "markdown",
      "source": [
        "# **Задача 1.**\n"
      ],
      "metadata": {
        "id": "XizmlL1RK2t3"
      }
    },
    {
      "cell_type": "markdown",
      "source": [
        "\n",
        "\n",
        "Типы данных Напишите программу на Python, которая принимает список чисел в качестве входных данных от пользователя, а затем выводит сумму, среднее значение и максимальное значение из списка.\n",
        "\n",
        "***Нельзя использовать: len(), min(), max(), average(), sum()***\n",
        "\n",
        "Ввод:\n",
        "```\n",
        "1 2 3 4 5 6 7\n",
        "```\n",
        "Вывод:\n",
        "\n",
        "```\n",
        "Сумма чисел: 28\n",
        "Среднее арифм.: 4.0\n",
        "Максимальное значение: 7\n",
        "```\n",
        "\n"
      ],
      "metadata": {
        "id": "p0v6KtHTFKSd"
      }
    },
    {
      "cell_type": "code",
      "source": [
        "n = int(input(\"Введите количество элементов в списке: \"))\n",
        "\n",
        "number_list = []\n",
        "\n",
        "for i in range(n):\n",
        "    element = input(f\"Введите элемент {i+1}: \")\n",
        "    number_list.append(int(element))\n",
        "\n",
        "\n",
        "def num_sum(number_list):\n",
        "  total = 0\n",
        "\n",
        "  for number in number_list:\n",
        "    total += number\n",
        "\n",
        "  return total\n",
        "\n",
        "\n",
        "def num_average(number_list):\n",
        "  amount = 0\n",
        "\n",
        "  for number in number_list:\n",
        "    amount += 1\n",
        "\n",
        "  return num_sum(number_list)/amount\n",
        "\n",
        "\n",
        "def num_max(number_list):\n",
        "  max_num = 0\n",
        "\n",
        "  for number in number_list:\n",
        "    if number > max_num:\n",
        "      max_num = number\n",
        "\n",
        "  return max_num\n",
        "\n",
        "\n",
        "print(num_sum(number_list))\n",
        "print(num_average(number_list))\n",
        "print(num_max(number_list))"
      ],
      "metadata": {
        "id": "0e1Virl0FpF6",
        "colab": {
          "base_uri": "https://localhost:8080/"
        },
        "outputId": "f2633eed-ef15-41cf-d608-210a4702a95d"
      },
      "execution_count": 3,
      "outputs": [
        {
          "output_type": "stream",
          "name": "stdout",
          "text": [
            "Введите количество элементов в списке: 7\n",
            "Введите элемент 1: 1\n",
            "Введите элемент 2: 2\n",
            "Введите элемент 3: 3\n",
            "Введите элемент 4: 4\n",
            "Введите элемент 5: 5\n",
            "Введите элемент 6: 6\n",
            "Введите элемент 7: 7\n",
            "28\n",
            "4.0\n",
            "7\n"
          ]
        }
      ]
    },
    {
      "cell_type": "markdown",
      "source": [
        "# **Задача 2.**"
      ],
      "metadata": {
        "id": "uFluc5OSK0NH"
      }
    },
    {
      "cell_type": "markdown",
      "source": [
        "\n",
        "Напишите программу на Python, которая принимает список слов в качестве входных данных от пользователя, а затем распечатывает список в обратном порядке.\n",
        "\n",
        "Ввод:\n",
        "\n",
        "```\n",
        "апельсин мандарин яблоко\n",
        "```\n",
        "\n",
        "Вывод:\n",
        "\n",
        "```\n",
        "яблоко мандарин апельсин\n",
        "```"
      ],
      "metadata": {
        "id": "6T8vg324GG4Z"
      }
    },
    {
      "cell_type": "code",
      "source": [
        "words_list = input(\"Введите слова через пробел: \").split(' ')\n",
        "print(type(words_list))\n",
        "\n",
        "reversed_words_list = words_list[::-1]\n",
        "print(' '.join(reversed_words_list))"
      ],
      "metadata": {
        "id": "v3AWj4ufGKox",
        "colab": {
          "base_uri": "https://localhost:8080/"
        },
        "outputId": "cf91e18d-7868-4fb1-f4a5-33a7705c4ddd"
      },
      "execution_count": 6,
      "outputs": [
        {
          "output_type": "stream",
          "name": "stdout",
          "text": [
            "Введите слова через пробел: апельсин мандарин яблоко\n",
            "<class 'list'>\n",
            "Слова в обратном порядке: яблоко мандарин апельсин\n"
          ]
        }
      ]
    },
    {
      "cell_type": "markdown",
      "source": [
        "# **Задача 3**"
      ],
      "metadata": {
        "id": "D1KkCxtIKxRx"
      }
    },
    {
      "cell_type": "markdown",
      "source": [
        "Простой чат-бот\n",
        "Создайте простого чат-бота, который отвечает на основные запросы пользователей. Программа должна использовать условные выражения для определения намерений пользователя и последующего соответствующего ответа.\n",
        "\n",
        "Чат бот может:\n",
        "\n",
        "- помогать складывать числа\n",
        "- подсказывать фильм, музыку и тд (из заранее созданного списка)\n",
        "- создавать список дел (а также выводить его, обновлять, очищать)\n",
        "\n",
        "Интерфейс чат-бота на ваше усмотрение, это могут быть как заранее определенные команды, так и к примеру вызов команды по номеру\n",
        "\n",
        "*Реализовать без использования функций*\n",
        "\n",
        "Пример:\n",
        "\n",
        "Ввод:\n",
        "\n",
        "```\n",
        "Олег, какую мызыку посоветуешь?\n",
        "```\n",
        "\n",
        "Вывод:\n",
        "\n",
        "```\n",
        "Я бы посоветовал вам: Led Zeppelin Stairway to Heaven\n",
        "```"
      ],
      "metadata": {
        "id": "Yq8Jgb9yHvSi"
      }
    },
    {
      "cell_type": "code",
      "source": [
        "from random import randint\n",
        "\n",
        "\n",
        "film_list = ['Криминальное чтиво', 'Трансформеры', 'Коралина', 'Приключения Паддингтона']\n",
        "music_list = ['Feel Good Inc.', 'Kids with guns', 'Clint Eastwood']\n",
        "\n",
        "\n",
        "running = True\n",
        "\n",
        "while running:\n",
        "  print('1 Сложить числа')\n",
        "  print('2 Подсказать фильм')\n",
        "  print('3 Подсказать музыку')\n",
        "  print('4 Создать список дел')\n",
        "  print('5 Вывести список дел')\n",
        "  print('6 Добавить дело в список дел')\n",
        "  print('7 Удалить дело из списка дел')\n",
        "  print('8 Очистить список дел')\n",
        "  print('9 Закрыть бота')\n",
        "  rule = input('Введите номер команды: ')\n",
        "\n",
        "  if rule == '1':\n",
        "    summand1 = int(input('Введите первое слагаемое: '))\n",
        "    summand2 = int(input('Введите второе слагаемое: '))\n",
        "    print('Сумма:', summand1 + summand2)\n",
        "  elif rule == '2':\n",
        "    film_number = randint(0, len(film_list))\n",
        "    print('Рекомендую фильм:', film_list[film_number])\n",
        "  elif rule == '3':\n",
        "    music_number = randint(0, len(music_list))\n",
        "    print('Рекомендую музыку:', music_list[music_number])\n",
        "  elif rule == '4':\n",
        "    task_list = []\n",
        "  elif rule == '5':\n",
        "    print('Список дел:', ' '.join(task_list))\n",
        "  elif rule == '6':\n",
        "    task = input('Введите новое дело: ')\n",
        "    task_list.append(task)\n",
        "  elif rule == '7':\n",
        "    remove_task = input('Введите дело для удаления: ')\n",
        "    if remove_task in task_list:\n",
        "      task_list.remove(remove_task)\n",
        "    else:\n",
        "      print('Такого дела нет в списке дел')\n",
        "  elif rule == '8':\n",
        "    task_list.clear()\n",
        "  elif rule == '9':\n",
        "    running = False\n",
        "\n",
        "\n",
        "\n"
      ],
      "metadata": {
        "id": "fmW-tmUtINN9",
        "colab": {
          "base_uri": "https://localhost:8080/"
        },
        "outputId": "06c67cc0-8996-4dff-d701-3e73e1a2a254"
      },
      "execution_count": 11,
      "outputs": [
        {
          "name": "stdout",
          "output_type": "stream",
          "text": [
            "1 Сложить числа\n",
            "2 Подсказать фильм\n",
            "3 Подсказать музыку\n",
            "4 Создать список дел\n",
            "5 Вывести список дел\n",
            "6 Добавить дело в список дел\n",
            "7 Удалить дело из списка дел\n",
            "8 Очистить список дел\n",
            "9 Закрыть бота\n",
            "Введите номер команды: 6\n",
            "Введите новое дело: Постирать\n",
            "1 Сложить числа\n",
            "2 Подсказать фильм\n",
            "3 Подсказать музыку\n",
            "4 Создать список дел\n",
            "5 Вывести список дел\n",
            "6 Добавить дело в список дел\n",
            "7 Удалить дело из списка дел\n",
            "8 Очистить список дел\n",
            "9 Закрыть бота\n",
            "Введите номер команды: 5\n",
            "Список дел: Постирать\n",
            "1 Сложить числа\n",
            "2 Подсказать фильм\n",
            "3 Подсказать музыку\n",
            "4 Создать список дел\n",
            "5 Вывести список дел\n",
            "6 Добавить дело в список дел\n",
            "7 Удалить дело из списка дел\n",
            "8 Очистить список дел\n",
            "9 Закрыть бота\n",
            "Введите номер команды: 7\n",
            "Введите дело для удаления: Постирать\n",
            "1 Сложить числа\n",
            "2 Подсказать фильм\n",
            "3 Подсказать музыку\n",
            "4 Создать список дел\n",
            "5 Вывести список дел\n",
            "6 Добавить дело в список дел\n",
            "7 Удалить дело из списка дел\n",
            "8 Очистить список дел\n",
            "9 Закрыть бота\n",
            "Введите номер команды: 5\n",
            "Список дел: \n",
            "1 Сложить числа\n",
            "2 Подсказать фильм\n",
            "3 Подсказать музыку\n",
            "4 Создать список дел\n",
            "5 Вывести список дел\n",
            "6 Добавить дело в список дел\n",
            "7 Удалить дело из списка дел\n",
            "8 Очистить список дел\n",
            "9 Закрыть бота\n",
            "Введите номер команды: 7\n",
            "Введите дело для удаления: Постирать\n",
            "Такого дела нет в списке дел\n",
            "1 Сложить числа\n",
            "2 Подсказать фильм\n",
            "3 Подсказать музыку\n",
            "4 Создать список дел\n",
            "5 Вывести список дел\n",
            "6 Добавить дело в список дел\n",
            "7 Удалить дело из списка дел\n",
            "8 Очистить список дел\n",
            "9 Закрыть бота\n",
            "Введите номер команды: 6\n",
            "Введите новое дело: Постирать\n",
            "1 Сложить числа\n",
            "2 Подсказать фильм\n",
            "3 Подсказать музыку\n",
            "4 Создать список дел\n",
            "5 Вывести список дел\n",
            "6 Добавить дело в список дел\n",
            "7 Удалить дело из списка дел\n",
            "8 Очистить список дел\n",
            "9 Закрыть бота\n",
            "Введите номер команды: 5\n",
            "Список дел: Постирать\n",
            "1 Сложить числа\n",
            "2 Подсказать фильм\n",
            "3 Подсказать музыку\n",
            "4 Создать список дел\n",
            "5 Вывести список дел\n",
            "6 Добавить дело в список дел\n",
            "7 Удалить дело из списка дел\n",
            "8 Очистить список дел\n",
            "9 Закрыть бота\n",
            "Введите номер команды: 8\n",
            "1 Сложить числа\n",
            "2 Подсказать фильм\n",
            "3 Подсказать музыку\n",
            "4 Создать список дел\n",
            "5 Вывести список дел\n",
            "6 Добавить дело в список дел\n",
            "7 Удалить дело из списка дел\n",
            "8 Очистить список дел\n",
            "9 Закрыть бота\n",
            "Введите номер команды: 5\n",
            "Список дел: \n",
            "1 Сложить числа\n",
            "2 Подсказать фильм\n",
            "3 Подсказать музыку\n",
            "4 Создать список дел\n",
            "5 Вывести список дел\n",
            "6 Добавить дело в список дел\n",
            "7 Удалить дело из списка дел\n",
            "8 Очистить список дел\n",
            "9 Закрыть бота\n",
            "Введите номер команды: 9\n"
          ]
        }
      ]
    },
    {
      "cell_type": "markdown",
      "source": [
        "# **Задача 4.**\n"
      ],
      "metadata": {
        "id": "PHXBfyc6Ko7D"
      }
    },
    {
      "cell_type": "markdown",
      "source": [
        "Камень, ножницы, бумага\n",
        "\n",
        "Создайте игру в Камень, ножницы, бумагу, в которой пользователь может играть против компьютера. Программа должна запросить выбор пользователя, а затем сгенерировать выбор компьютера. Затем программа должна определить победителя на основе правил игры.\n",
        "\n",
        "**Этап 1:**\n",
        "\n",
        "Определение победителя\n",
        "\n",
        "**Этап 2:**\n",
        "  \n",
        "Игра до 3 побед\n",
        "\n",
        "\n",
        "Ввод для \"Этап 1\":\n",
        "\n",
        "```\n",
        "Камень\n",
        "```\n",
        "\n",
        "Вывод:\n",
        "\n",
        "```\n",
        "Компьютер: Ножницы\n",
        "Игрок: Камень\n",
        "Победа: Игрок\n",
        "```"
      ],
      "metadata": {
        "id": "jnKWeYleI0j6"
      }
    },
    {
      "cell_type": "code",
      "source": [
        "from random import choice\n",
        "\n",
        "\n",
        "choices = ['Камень', 'Ножницы', 'Бумага']\n",
        "\n",
        "running = True\n",
        "count_computer = 0\n",
        "count_player = 0\n",
        "\n",
        "while running:\n",
        "\n",
        "    while True:\n",
        "        user_input = input('Ваш выбор (Камень/Ножницы/Бумага): ')\n",
        "        if user_input in choices:\n",
        "            break\n",
        "        else:\n",
        "            print('Пожалуйста, введите правильный вариант.')\n",
        "\n",
        "\n",
        "    computer_choice = choice(choices)\n",
        "\n",
        "\n",
        "    if user_input == computer_choice:\n",
        "        print('Ничья!')\n",
        "    elif user_input == 'Камень':\n",
        "        if computer_choice == 'Ножницы':\n",
        "            print('Вы выиграли! Камень побеждает ножницы.')\n",
        "            count_player += 1\n",
        "        else:\n",
        "            print('Компьютер выиграл! Бумага побеждает камень.')\n",
        "            count_computer += 1\n",
        "    elif user_input == 'Ножницы':\n",
        "        if computer_choice == 'Бумага':\n",
        "            print('Вы выиграли! Ножницы побеждают бумагу.')\n",
        "            count_player += 1\n",
        "        else:\n",
        "            print('Компьютер выиграл! Камень побеждает ножницы.')\n",
        "            count_computer += 1\n",
        "    else:\n",
        "        if computer_choice == 'Камень':\n",
        "            print('Вы выиграли! Бумага побеждает камень.')\n",
        "            count_player += 1\n",
        "        else:\n",
        "            print('Компьютер выиграл! Ножницы побеждают бумагу.')\n",
        "            count_computer += 1\n",
        "\n",
        "    print(f'Пользователь выбрал: {user_input}')\n",
        "    print(f'Компьютер выбрал: {computer_choice}')\n",
        "\n",
        "    if count_player == 3:\n",
        "      print('Вы победили в турнире!')\n",
        "      running = False\n",
        "    elif count_computer == 3:\n",
        "      print('Компьютер победил в турнире!')\n",
        "      running = False"
      ],
      "metadata": {
        "id": "ooIPCRe_JHkX",
        "colab": {
          "base_uri": "https://localhost:8080/",
          "height": 356
        },
        "outputId": "e973eb9f-ac84-4ef7-ea79-94e1f6b09194"
      },
      "execution_count": 15,
      "outputs": [
        {
          "output_type": "error",
          "ename": "KeyboardInterrupt",
          "evalue": "Interrupted by user",
          "traceback": [
            "\u001b[0;31m---------------------------------------------------------------------------\u001b[0m",
            "\u001b[0;31mKeyboardInterrupt\u001b[0m                         Traceback (most recent call last)",
            "\u001b[0;32m<ipython-input-15-e948ba7078a4>\u001b[0m in \u001b[0;36m<cell line: 10>\u001b[0;34m()\u001b[0m\n\u001b[1;32m     11\u001b[0m \u001b[0;34m\u001b[0m\u001b[0m\n\u001b[1;32m     12\u001b[0m     \u001b[0;32mwhile\u001b[0m \u001b[0;32mTrue\u001b[0m\u001b[0;34m:\u001b[0m\u001b[0;34m\u001b[0m\u001b[0;34m\u001b[0m\u001b[0m\n\u001b[0;32m---> 13\u001b[0;31m         \u001b[0muser_input\u001b[0m \u001b[0;34m=\u001b[0m \u001b[0minput\u001b[0m\u001b[0;34m(\u001b[0m\u001b[0;34m'Ваш выбор (Камень/Ножницы/Бумага): '\u001b[0m\u001b[0;34m)\u001b[0m\u001b[0;34m\u001b[0m\u001b[0;34m\u001b[0m\u001b[0m\n\u001b[0m\u001b[1;32m     14\u001b[0m         \u001b[0;32mif\u001b[0m \u001b[0muser_input\u001b[0m \u001b[0;32min\u001b[0m \u001b[0mchoices\u001b[0m\u001b[0;34m:\u001b[0m\u001b[0;34m\u001b[0m\u001b[0;34m\u001b[0m\u001b[0m\n\u001b[1;32m     15\u001b[0m             \u001b[0;32mbreak\u001b[0m\u001b[0;34m\u001b[0m\u001b[0;34m\u001b[0m\u001b[0m\n",
            "\u001b[0;32m/usr/local/lib/python3.10/dist-packages/ipykernel/kernelbase.py\u001b[0m in \u001b[0;36mraw_input\u001b[0;34m(self, prompt)\u001b[0m\n\u001b[1;32m    849\u001b[0m                 \u001b[0;34m\"raw_input was called, but this frontend does not support input requests.\"\u001b[0m\u001b[0;34m\u001b[0m\u001b[0;34m\u001b[0m\u001b[0m\n\u001b[1;32m    850\u001b[0m             )\n\u001b[0;32m--> 851\u001b[0;31m         return self._input_request(str(prompt),\n\u001b[0m\u001b[1;32m    852\u001b[0m             \u001b[0mself\u001b[0m\u001b[0;34m.\u001b[0m\u001b[0m_parent_ident\u001b[0m\u001b[0;34m,\u001b[0m\u001b[0;34m\u001b[0m\u001b[0;34m\u001b[0m\u001b[0m\n\u001b[1;32m    853\u001b[0m             \u001b[0mself\u001b[0m\u001b[0;34m.\u001b[0m\u001b[0m_parent_header\u001b[0m\u001b[0;34m,\u001b[0m\u001b[0;34m\u001b[0m\u001b[0;34m\u001b[0m\u001b[0m\n",
            "\u001b[0;32m/usr/local/lib/python3.10/dist-packages/ipykernel/kernelbase.py\u001b[0m in \u001b[0;36m_input_request\u001b[0;34m(self, prompt, ident, parent, password)\u001b[0m\n\u001b[1;32m    893\u001b[0m             \u001b[0;32mexcept\u001b[0m \u001b[0mKeyboardInterrupt\u001b[0m\u001b[0;34m:\u001b[0m\u001b[0;34m\u001b[0m\u001b[0;34m\u001b[0m\u001b[0m\n\u001b[1;32m    894\u001b[0m                 \u001b[0;31m# re-raise KeyboardInterrupt, to truncate traceback\u001b[0m\u001b[0;34m\u001b[0m\u001b[0;34m\u001b[0m\u001b[0m\n\u001b[0;32m--> 895\u001b[0;31m                 \u001b[0;32mraise\u001b[0m \u001b[0mKeyboardInterrupt\u001b[0m\u001b[0;34m(\u001b[0m\u001b[0;34m\"Interrupted by user\"\u001b[0m\u001b[0;34m)\u001b[0m \u001b[0;32mfrom\u001b[0m \u001b[0;32mNone\u001b[0m\u001b[0;34m\u001b[0m\u001b[0;34m\u001b[0m\u001b[0m\n\u001b[0m\u001b[1;32m    896\u001b[0m             \u001b[0;32mexcept\u001b[0m \u001b[0mException\u001b[0m \u001b[0;32mas\u001b[0m \u001b[0me\u001b[0m\u001b[0;34m:\u001b[0m\u001b[0;34m\u001b[0m\u001b[0;34m\u001b[0m\u001b[0m\n\u001b[1;32m    897\u001b[0m                 \u001b[0mself\u001b[0m\u001b[0;34m.\u001b[0m\u001b[0mlog\u001b[0m\u001b[0;34m.\u001b[0m\u001b[0mwarning\u001b[0m\u001b[0;34m(\u001b[0m\u001b[0;34m\"Invalid Message:\"\u001b[0m\u001b[0;34m,\u001b[0m \u001b[0mexc_info\u001b[0m\u001b[0;34m=\u001b[0m\u001b[0;32mTrue\u001b[0m\u001b[0;34m)\u001b[0m\u001b[0;34m\u001b[0m\u001b[0;34m\u001b[0m\u001b[0m\n",
            "\u001b[0;31mKeyboardInterrupt\u001b[0m: Interrupted by user"
          ]
        }
      ]
    },
    {
      "cell_type": "markdown",
      "source": [
        "# **Задача 5.**"
      ],
      "metadata": {
        "id": "Hg4FJNFbLHQO"
      }
    },
    {
      "cell_type": "markdown",
      "source": [
        "Создайте игру \"Палач\" или \"Виселица\", в которой пользователь должен угадать слово, предлагая буквы. Программа должна выбрать случайное слово, а затем разрешить пользователю угадывать буквы. После каждого угадывания программа должна сообщать пользователю, есть ли в слове буква или нет.\n",
        "\n",
        "**Этап 1**\n",
        "Создать саму игру (игра должна иметь привлекательный интерфейс, соотвесвующий классической висилице)\n",
        "\n",
        "**Этап 2:**\n",
        "Ввести подсчет количества очков и ограничения на попытки\n",
        "\n",
        "**Этап 3:** Добавить возможность сразу угадать слово"
      ],
      "metadata": {
        "id": "OHqj3HJuLJgY"
      }
    },
    {
      "cell_type": "code",
      "source": [
        "from random import choice\n",
        "\n",
        "\n",
        "words = [\n",
        "    'яблоко', 'арбуз', 'груша', 'апельсин',\n",
        "    'банан', 'персик', 'слива', 'виноград'\n",
        "]\n",
        "word = choice(words)\n",
        "attempts = len(word) + 3\n",
        "display_word = ['_' for _ in range(len(word))]\n",
        "score = 100\n",
        "\n",
        "\n",
        "while attempts > 0:\n",
        "    print('\\n')\n",
        "    print(' '.join(display_word))\n",
        "    print(f'Текущий счет: {score}')\n",
        "    guess = input('Выберите букву: ')\n",
        "\n",
        "    if len(guess) == 1:\n",
        "        if guess in word:\n",
        "            indices = [i for i, letter in enumerate(word) if letter == guess]\n",
        "            for index in indices:\n",
        "                display_word[index] = guess\n",
        "            if '_' not in display_word:\n",
        "                print('\\nВы угадали слово:', ' '.join(display_word))\n",
        "                print(f'Итоговый счет: {score}')\n",
        "                break\n",
        "        else:\n",
        "            attempts -= 1\n",
        "            score -= 10\n",
        "            print(f'Неверная буква. Осталось попыток: {attempts}')\n",
        "    elif len(guess) == len(word):\n",
        "        if guess == word:\n",
        "            print('\\nВы угадали слово:', guess)\n",
        "            print(f'Итоговый счет: {score}')\n",
        "            break\n",
        "        else:\n",
        "            attempts -= 1\n",
        "            score -= 20\n",
        "            print(f'Неправильное слово. Осталось попыток: {attempts}')\n",
        "    else:\n",
        "        print('Пожалуйста, введите одну букву или попробуйте угадать слово полностью.')\n",
        "\n",
        "    if attempts == 0:\n",
        "        print('\\nВы проиграли. Правильное слово было:', word)\n",
        "        print(f'Итоговый счет: {score}')"
      ],
      "metadata": {
        "id": "0N2zCYwVLiIw",
        "colab": {
          "base_uri": "https://localhost:8080/"
        },
        "outputId": "b0940b77-019b-42f2-f9ed-c8ac3c6263ce"
      },
      "execution_count": 17,
      "outputs": [
        {
          "output_type": "stream",
          "name": "stdout",
          "text": [
            "\n",
            "\n",
            "_ _ _ _ _\n",
            "Текущий счет: 100\n",
            "Выберите букву: а\n",
            "\n",
            "\n",
            "_ _ _ _ а\n",
            "Текущий счет: 100\n",
            "Выберите букву: г\n",
            "Неверная буква. Осталось попыток: 7\n",
            "\n",
            "\n",
            "_ _ _ _ а\n",
            "Текущий счет: 90\n",
            "Выберите букву: с\n",
            "\n",
            "\n",
            "с _ _ _ а\n",
            "Текущий счет: 90\n",
            "Выберите букву: слива\n",
            "\n",
            "Вы угадали слово: слива\n",
            "Итоговый счет: 90\n"
          ]
        }
      ]
    },
    {
      "cell_type": "markdown",
      "source": [
        "# **Дополнительно: Задача 6.**\n"
      ],
      "metadata": {
        "id": "w0x3QFGzKtDD"
      }
    },
    {
      "cell_type": "markdown",
      "source": [
        "\n",
        "**Цифра на определенном месте:**\n",
        "\n",
        "Последовательно записан натуральный ряд чисел.\n",
        "\n",
        "Какая цифра стоит в N позиции\n",
        "\n",
        "\n",
        "Вввод:\n",
        "\n",
        "```\n",
        "Введите номер позиции: 1234567890\n",
        "```\n",
        "\n",
        "Вывод:\n",
        "\n",
        "```\n",
        "8\n",
        "```"
      ],
      "metadata": {
        "id": "QqZArcpHJxVj"
      }
    },
    {
      "cell_type": "code",
      "source": [],
      "metadata": {
        "id": "LwjYwBGcKiJ9"
      },
      "execution_count": null,
      "outputs": []
    }
  ]
}