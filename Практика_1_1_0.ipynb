{
  "nbformat": 4,
  "nbformat_minor": 0,
  "metadata": {
    "colab": {
      "provenance": []
    },
    "kernelspec": {
      "name": "python3",
      "display_name": "Python 3"
    },
    "language_info": {
      "name": "python"
    }
  },
  "cells": [
    {
      "cell_type": "markdown",
      "source": [
        "**ФИО:**Моргенштерн Дмитрий Игоревич"
      ],
      "metadata": {
        "id": "GEsFKJm-ABFp"
      }
    },
    {
      "cell_type": "code",
      "execution_count": null,
      "metadata": {
        "id": "wZMLYG_G_-19"
      },
      "outputs": [],
      "source": []
    },
    {
      "cell_type": "markdown",
      "source": [
        "# Задание 1"
      ],
      "metadata": {
        "id": "H4DrYnJjADuZ"
      }
    },
    {
      "cell_type": "markdown",
      "source": [
        "**Описание:** Создайте иерархию классов для разных типов сотрудников в компании. Реализуйте родительский класс Employee и дочерние классы Manager и Developer. Каждый класс должен иметь метод для расчета зарплаты на основе различных критериев класса.\n",
        "\n",
        "\n",
        "Отрабатываемый принцип: Наследование\n",
        "\n"
      ],
      "metadata": {
        "id": "C17FWep-AF4a"
      }
    },
    {
      "cell_type": "code",
      "source": [
        "class Employee:\n",
        "\n",
        "  ratio = 1\n",
        "\n",
        "  def __init__(self, work_time, over_work_time):\n",
        "    self.work_time = work_time\n",
        "    self.over_work_time = over_work_time\n",
        "\n",
        "  def salary(self):\n",
        "    return f'Зарплата обычного рабочего: {self.work_time * self.ratio + self.over_work_time * 1}'\n",
        "\n",
        "class Manager(Employee):\n",
        "\n",
        "  ratio = 2\n",
        "\n",
        "  def __init__(self, work_time, over_work_time):\n",
        "    super().__init__(work_time, over_work_time)\n",
        "\n",
        "  def salary(self):\n",
        "    return f'Зарплата менеджера: {self.work_time * self.ratio + self.over_work_time * 3}'\n",
        "\n",
        "\n",
        "class Developer(Employee):\n",
        "\n",
        "  ratio = 3\n",
        "\n",
        "  def __init__(self, work_time, over_work_time):\n",
        "    super().__init__(work_time, over_work_time)\n",
        "\n",
        "  def salary(self):\n",
        "    return f'Зарплата разработчика: {self.work_time * self.ratio + self.over_work_time * 5}'"
      ],
      "metadata": {
        "id": "aexGXzqCAFH7"
      },
      "execution_count": null,
      "outputs": []
    },
    {
      "cell_type": "code",
      "source": [
        "employee1 = Employee(2, 2)\n",
        "employee2 = Manager(3, 3)\n",
        "employee3 = Developer(4, 4)\n",
        "\n",
        "\n",
        "print(employee1.salary())\n",
        "\n",
        "print(employee2.salary())\n",
        "\n",
        "print(employee3.salary())"
      ],
      "metadata": {
        "colab": {
          "base_uri": "https://localhost:8080/"
        },
        "id": "FYu6BFHf8ES0",
        "outputId": "33ee659f-96f4-417a-eb20-fc850faf0389"
      },
      "execution_count": null,
      "outputs": [
        {
          "output_type": "stream",
          "name": "stdout",
          "text": [
            "Зарплата обычного рабочего: 4\n",
            "Зарплата менеджера: 15\n",
            "Зарплата разработчика: 32\n"
          ]
        }
      ]
    },
    {
      "cell_type": "markdown",
      "source": [
        "# Задание 2"
      ],
      "metadata": {
        "id": "ERAi0TG5BI6v"
      }
    },
    {
      "cell_type": "markdown",
      "source": [
        "**Описание:** Создайте иерархию классов для различных типов транспортных средств (Необходим один родительский класс и 3 дочерних). Реализуйте метод, который позволяет каждому транспортному средству возвращать собственное описание (Метод в каждом классе должен иметь одинаковое название). Продемонстрируйте вызов данного метода для каждого транспортного средства.\n",
        "\n",
        "\n",
        "Отрабатываемый принцип: Полиморфизм"
      ],
      "metadata": {
        "id": "sJ3k7ZcgBK87"
      }
    },
    {
      "cell_type": "code",
      "source": [
        "class Cars:\n",
        "\n",
        "  def __init__(self, name, doors_amount, wheels_amount, mass):\n",
        "    self.name = name\n",
        "    self.doors_amount = doors_amount\n",
        "    self.wheels_amount = wheels_amount\n",
        "    self.mass = mass\n",
        "\n",
        "  def describtion(self):\n",
        "    return f'Название машины: {self.name}, количество дверей: {self.doors_amount}, количество колес: {self.wheels_amount}, масса автомобиля: {self.mass}.'\n",
        "\n",
        "class SuperCars(Cars):\n",
        "\n",
        "  def __init__(self, name, doors_amount, wheels_amount, mass, speed):\n",
        "    super().__init__(name, doors_amount, wheels_amount, mass)\n",
        "    self.speed = speed\n",
        "\n",
        "  def describtion(self):\n",
        "    return f'Название машины: {self.name}, количество дверей: {self.doors_amount}, количество колес: {self.wheels_amount}, масса автомобиля: {self.mass}, скорость: {self.speed}'\n",
        "\n",
        "class OffRoad(Cars):\n",
        "\n",
        "  def __init__(self, name, doors_amount, wheels_amount, mass, type_of_frame):\n",
        "    super().__init__(name, doors_amount, wheels_amount, mass)\n",
        "    self.type_of_frame = type_of_frame\n",
        "\n",
        "  def describtion(self):\n",
        "    return f'Название машины: {self.name}, количество дверей: {self.doors_amount}, количество колес: {self.wheels_amount}, масса автомобиля: {self.mass}, тип рамы: {self.type_of_frame}'\n",
        "\n",
        "class Trucks(Cars):\n",
        "\n",
        "  def __init__(self, name, doors_amount, wheels_amount, mass, trailer):\n",
        "    super().__init__(name, doors_amount, wheels_amount, mass)\n",
        "    self.trailer = trailer\n",
        "\n",
        "  def describtion(self):\n",
        "    return f'Название машины: {self.name}, количество дверей: {self.doors_amount}, количество колес: {self.wheels_amount}, масса автомобиля: {self.mass}, трейлер: {self.trailer}'"
      ],
      "metadata": {
        "id": "WOFOZQmDBKf4"
      },
      "execution_count": null,
      "outputs": []
    },
    {
      "cell_type": "code",
      "source": [
        "car1 = SuperCars('Вейрон', 2, 4, 1.5, 400)\n",
        "car2 = OffRoad('Оутлендер', 4, 4, 3, 'Стержневая')\n",
        "car3 = Trucks('Шольц', 2, 6, 10, True)\n",
        "\n",
        "\n",
        "print(car1.describtion())\n",
        "print(car2.describtion())\n",
        "print(car3.describtion())"
      ],
      "metadata": {
        "colab": {
          "base_uri": "https://localhost:8080/"
        },
        "id": "_5VTWi5eDilm",
        "outputId": "4d3a58db-d35a-487b-b12d-64e2d51e39f3"
      },
      "execution_count": null,
      "outputs": [
        {
          "output_type": "stream",
          "name": "stdout",
          "text": [
            "Название машины: Вейрон, количество дверей: 2, количество колес: 4, масса автомобиля: 1.5, скорость: 400\n",
            "Название машины: Оутлендер, количество дверей: 4, количество колес: 4, масса автомобиля: 3, тип рамы: Стержневая\n",
            "Название машины: Шольц, количество дверей: 2, количество колес: 6, масса автомобиля: 10, трейлер: True\n"
          ]
        }
      ]
    },
    {
      "cell_type": "markdown",
      "source": [
        "# Задание 3"
      ],
      "metadata": {
        "id": "7E_SJXMJBvD4"
      }
    },
    {
      "cell_type": "markdown",
      "source": [
        "Онлайн-магазин:\n",
        "- Создайте модель для онлайн-магазина с классами Product, Order, Customer, и ShoppingCart.\n",
        "- Product включает информацию о цене, наличии на складе и категории товара.\n",
        "Order обрабатывает процесс покупки, включая расчет цены с учетом скидок и налогов.\n",
        "- Customer управляет информацией о пользователе и его истории заказов.\n",
        "- ShoppingCart позволяет добавлять, удалять и обновлять количество товаров перед оформлением заказа.\n"
      ],
      "metadata": {
        "id": "dd1mwKj_BxHa"
      }
    },
    {
      "cell_type": "code",
      "source": [
        "class Product:\n",
        "    def __init__(self, name, price, quantity, category):\n",
        "        self.name = name\n",
        "        self.price = price\n",
        "        self.quantity = quantity\n",
        "        self.category = category\n",
        "\n",
        "    def update_quantity(self, new_quantity):\n",
        "        if new_quantity >= 0:\n",
        "            self.quantity = new_quantity\n",
        "\n",
        "    def __repr__(self):\n",
        "        return f'Продукт: {self.name}\", цена: {self.price}, количество: {self.quantity}, категория:{self.category}'\n",
        "\n",
        "\n",
        "class ShoppingCart:\n",
        "    def __init__(self):\n",
        "        self.items = {}\n",
        "\n",
        "    def add_item(self, product, quantity=1):\n",
        "        if product not in self.items:\n",
        "            self.items[product] = quantity\n",
        "        else:\n",
        "            self.items[product] += quantity\n",
        "\n",
        "    def remove_item(self, product, quantity=1):\n",
        "        if product in self.items:\n",
        "            self.items[product] -= quantity\n",
        "\n",
        "    def get_total_price(self):\n",
        "        total = sum(product.price * self.items[product] for product in self.items)\n",
        "        return round(total, 2)\n",
        "\n",
        "    def __repr__(self):\n",
        "        items_str = \"\\n\".join(f\"{product}: {quantity}\" for product, quantity in self.items.items())\n",
        "        return f'Корзина покупок:\\n{items_str}'\n",
        "\n",
        "\n",
        "class Customer:\n",
        "    def __init__(self, name, age):\n",
        "        self.name = name\n",
        "        self.age = age\n",
        "        self.orders = []\n",
        "\n",
        "    def place_order(self, cart, discount=0, tax_rate=0):\n",
        "        subtotal = cart.get_total_price()\n",
        "        discount_amount = subtotal * discount / 100\n",
        "        tax_amount = (subtotal - discount_amount) * tax_rate / 100\n",
        "        total = subtotal - discount_amount + tax_amount\n",
        "        order = Order(subtotal, discount_amount, tax_amount, total, cart.items.copy(), self)\n",
        "        self.orders.append(order)\n",
        "        return order\n",
        "\n",
        "    def get_orders_history(self):\n",
        "        return self.orders\n",
        "\n",
        "\n",
        "class Order:\n",
        "    def __init__(self, subtotal, discount_amount, tax_amount, total, items, customer):\n",
        "        self.subtotal = subtotal\n",
        "        self.discount_amount = discount_amount\n",
        "        self.tax_amount = tax_amount\n",
        "        self.total = total\n",
        "        self.items = items\n",
        "        self.customer = customer\n",
        "\n",
        "    def __repr__(self):\n",
        "        items_str = \"\\n\".join(f\"{product}: {quantity}\" for product, quantity in self.items.items())\n",
        "        return (\n",
        "            f'Заказ(промежуточный итог={self.subtotal}, скидка={self.discount_amount}, '\n",
        "            f'налог={self.tax_amount}, итог={self.total})\\nСодержание:\\n{items_str}'\n",
        "        )"
      ],
      "metadata": {
        "id": "xopR5wdfygss"
      },
      "execution_count": null,
      "outputs": []
    },
    {
      "cell_type": "code",
      "source": [
        "product1 = Product('Молоко', 50, 20, 'Кисломолочные товары')\n",
        "product2 = Product('Сахар', 60, 30, 'Бакалея')\n",
        "\n",
        "\n",
        "customer = Customer('Дмитрий', 25)\n",
        "\n",
        "\n",
        "cart = ShoppingCart()\n",
        "\n",
        "\n",
        "cart.add_item(product1, 2)\n",
        "cart.add_item(product2, 1)\n",
        "\n",
        "\n",
        "order = customer.place_order(cart, discount=10, tax_rate=22)\n",
        "\n",
        "\n",
        "print(order)"
      ],
      "metadata": {
        "colab": {
          "base_uri": "https://localhost:8080/"
        },
        "id": "oIsOksd62ZO1",
        "outputId": "4e3a8742-c114-40c3-8406-60323f9f35fe"
      },
      "execution_count": null,
      "outputs": [
        {
          "output_type": "stream",
          "name": "stdout",
          "text": [
            "Заказ(промежуточный итог=160, скидка=16.0, налог=31.68, итог=175.68)\n",
            "Содержание:\n",
            "Продукт: Молоко\", цена: 50, количество: 20, категория:Кисломолочные товары: 2\n",
            "Продукт: Сахар\", цена: 60, количество: 30, категория:Бакалея: 1\n"
          ]
        }
      ]
    },
    {
      "cell_type": "markdown",
      "source": [
        "# Задание 4"
      ],
      "metadata": {
        "id": "ih7iPlYfB7lL"
      }
    },
    {
      "cell_type": "markdown",
      "source": [
        "Симулятор космического корабля:\n",
        "- Создайте симулятор управления космическим кораблем с классами SpaceShip, CrewMember, и Mission.\n",
        "- SpaceShip имеет атрибуты для управления топливом, состоянием корпуса, и текущей скоростью.\n",
        "- CrewMember контролирует здоровье, навыки, и роли в команде (например, пилот, инженер).\n",
        "- Mission определяет цели, ресурсы, и возможные события (например, аварии, встречи с астероидами)."
      ],
      "metadata": {
        "id": "zLwqVCbpCBvc"
      }
    },
    {
      "cell_type": "code",
      "source": [
        "import random\n",
        "\n",
        "class SpaceShip:\n",
        "    def __init__(self, fuel_capacity, hull_integrity):\n",
        "        self.fuel_level = fuel_capacity\n",
        "        self.hull_integrity = hull_integrity\n",
        "        self.current_speed = 0\n",
        "\n",
        "    def accelerate(self, delta_speed):\n",
        "        if self.fuel_level <= 0:\n",
        "            print('Нет топлива!')\n",
        "            return False\n",
        "\n",
        "        self.current_speed += delta_speed\n",
        "        self.consume_fuel(delta_speed)\n",
        "        print(f'Текущая скорость: {self.current_speed}')\n",
        "        return True\n",
        "\n",
        "    def decelerate(self, delta_speed):\n",
        "        if self.current_speed - delta_speed < 0:\n",
        "            print('Невозможно снизить скорость ниже нуля.')\n",
        "            return False\n",
        "\n",
        "        self.current_speed -= delta_speed\n",
        "        print(f'Текущая скорость: {self.current_speed}')\n",
        "        return True\n",
        "\n",
        "    def consume_fuel(self, speed_change):\n",
        "        fuel_consumption = abs(speed_change) * 0.01\n",
        "        self.fuel_level -= fuel_consumption\n",
        "        print(f'Осталось топлива: {self.fuel_level}')\n",
        "\n",
        "    def repair_hull(self, amount):\n",
        "        self.hull_integrity += amount\n",
        "        print(f'Состояние корпуса восстановлено на {amount}. Текущее состояние: {self.hull_integrity}')\n",
        "\n",
        "    def damage_hull(self, amount):\n",
        "        self.hull_integrity -= amount\n",
        "        if self.hull_integrity <= 0:\n",
        "            print('Корпус разрушен! Корабль потерял работоспособность.')\n",
        "        else:\n",
        "            print(f'Повреждение корпуса на {amount}. Осталось целостности: {self.hull_integrity}')\n",
        "\n",
        "\n",
        "class CrewMember:\n",
        "    def __init__(self, health, skills, role):\n",
        "        self.health = health\n",
        "        self.skills = skills\n",
        "        self.role = role\n",
        "\n",
        "    def take_damage(self, damage):\n",
        "        self.health -= damage\n",
        "        if self.health <= 0:\n",
        "            print(f'{self.role} погиб!')\n",
        "        else:\n",
        "            print(f'{self.role} получил урон. Оставшееся здоровье: {self.health}')\n",
        "\n",
        "    def heal(self, healing):\n",
        "        self.health += healing\n",
        "        print(f'{self.role} вылечен. Здоровье: {self.health}')\n",
        "\n",
        "    def perform_action(self, action):\n",
        "        if action in self.skills:\n",
        "            print(f'{self.role} успешно выполнил действие {action}.')\n",
        "        else:\n",
        "            print(f'{self.role} не обладает навыком для выполнения действия {action}.')\n",
        "\n",
        "\n",
        "class Mission:\n",
        "    def __init__(self, objectives, resources, events):\n",
        "        self.objectives = objectives\n",
        "        self.resources = resources\n",
        "        self.events = events\n",
        "        self.event_log = []\n",
        "\n",
        "    def start_mission(self, spaceship, crew):\n",
        "        print('Миссия началась!')\n",
        "        while len(self.objectives) > 0:\n",
        "            event = self.generate_event()\n",
        "            self.handle_event(event, spaceship, crew)\n",
        "\n",
        "            if spaceship.hull_integrity <= 0 or any(member.health <= 0 for member in crew):\n",
        "                break\n",
        "\n",
        "        if len(self.objectives) == 0:\n",
        "            print('Все цели достигнуты! Миссия завершена успешно.')\n",
        "        elif spaceship.hull_integrity <= 0:\n",
        "            print('Корабль разрушен! Миссия провалилась.')\n",
        "        else:\n",
        "            print('Экипаж мертв! Миссия провалилась.')\n",
        "\n",
        "    def generate_event(self):\n",
        "        event = random.choice(self.events)\n",
        "        self.event_log.append(event)\n",
        "        return event\n",
        "\n",
        "    def handle_event(self, event, spaceship, crew):\n",
        "        if event['type'] == 'damage':\n",
        "            spaceship.damage_hull(event['value'])\n",
        "        elif event['type'] == 'repair':\n",
        "            spaceship.repair_hull(event['value'])\n",
        "        elif event['type'] == 'heal':\n",
        "            for member in crew:\n",
        "                member.heal(event['value'])\n",
        "        elif event['type'] == 'injury':\n",
        "            for member in crew:\n",
        "                member.take_damage(event['value'])\n",
        "        elif event['type'] == 'fuel_loss':\n",
        "            spaceship.consume_fuel(event[\"value\"])\n",
        "        elif event['type'] == 'fuel_gain':\n",
        "            spaceship.fuel_level += event['value']\n",
        "        elif event['type'] == 'objective_complete':\n",
        "            self.objectives.pop(event['objective'])\n",
        "            print('Цель', event['objective'], 'достигнута!')"
      ],
      "metadata": {
        "id": "4NyrOOy8B9ED"
      },
      "execution_count": null,
      "outputs": []
    },
    {
      "cell_type": "code",
      "source": [
        "# Создание космического корабля\n",
        "spaceship = SpaceShip(fuel_capacity=100, hull_integrity=100)\n",
        "\n",
        "# Создание членов экипажа\n",
        "captain = CrewMember(health=100, skills=[\"pilot\", \"leadership\"], role=\"Капитан\")\n",
        "engineer = CrewMember(health=90, skills=[\"engineering\", \"mechanics\"], role=\"Инженер\")\n",
        "medic = CrewMember(health=80, skills=[\"medical\", \"biology\"], role=\"Медик\")\n",
        "crew = [captain, engineer, medic]\n",
        "\n",
        "# Определение миссии\n",
        "objectives = [\"Исследовать планету X\", \"Собрать образцы минералов\", \"Вернуться на Землю\"]\n",
        "resources = {\"fuel\": 100, \"food\": 200}\n",
        "events = [\n",
        "    {\"type\": \"damage\", \"description\": \"Поврежден корпус!\", \"value\": 20},\n",
        "    {\"type\": \"repair\", \"description\": \"Ремонт корпуса.\", \"value\": 10},\n",
        "    {\"type\": \"heal\", \"description\": \"Лечение экипажа.\", \"value\": 30},\n",
        "    {\"type\": \"injury\", \"description\": \"Получен урон экипажем.\", \"value\": 40},\n",
        "    {\"type\": \"fuel_loss\", \"description\": \"Потеря топлива.\", \"value\": 15},\n",
        "    {\"type\": \"fuel_gain\", \"description\": \"Пополнение запасов топлива.\", \"value\": 25},\n",
        "    {\"type\": \"objective_complete\", \"description\": \"Достижение цели.\", \"objective\": \"Исследовать планету X\"},\n",
        "    {\"type\": \"objective_complete\", \"description\": \"Достижение цели.\", \"objective\": \"Собрать образцы минералов\"}\n",
        "]\n",
        "mission = Mission(objectives, resources, events)\n",
        "\n",
        "# Запуск миссии\n",
        "mission.start_mission(spaceship, crew)"
      ],
      "metadata": {
        "colab": {
          "base_uri": "https://localhost:8080/",
          "height": 373
        },
        "id": "w9JAV4zTAnV_",
        "outputId": "58c8df3e-00f1-46c1-b742-0cc12e16e496"
      },
      "execution_count": null,
      "outputs": [
        {
          "output_type": "stream",
          "name": "stdout",
          "text": [
            "Миссия началась!\n",
            "Состояние корпуса восстановлено на 10. Текущее состояние: 110\n",
            "Осталось топлива: 124.85\n",
            "Состояние корпуса восстановлено на 10. Текущее состояние: 120\n"
          ]
        },
        {
          "output_type": "error",
          "ename": "TypeError",
          "evalue": "'str' object cannot be interpreted as an integer",
          "traceback": [
            "\u001b[0;31m---------------------------------------------------------------------------\u001b[0m",
            "\u001b[0;31mTypeError\u001b[0m                                 Traceback (most recent call last)",
            "\u001b[0;32m<ipython-input-28-b3ee4e3022a6>\u001b[0m in \u001b[0;36m<cell line: 26>\u001b[0;34m()\u001b[0m\n\u001b[1;32m     24\u001b[0m \u001b[0;34m\u001b[0m\u001b[0m\n\u001b[1;32m     25\u001b[0m \u001b[0;31m# Запуск миссии\u001b[0m\u001b[0;34m\u001b[0m\u001b[0;34m\u001b[0m\u001b[0m\n\u001b[0;32m---> 26\u001b[0;31m \u001b[0mmission\u001b[0m\u001b[0;34m.\u001b[0m\u001b[0mstart_mission\u001b[0m\u001b[0;34m(\u001b[0m\u001b[0mspaceship\u001b[0m\u001b[0;34m,\u001b[0m \u001b[0mcrew\u001b[0m\u001b[0;34m)\u001b[0m\u001b[0;34m\u001b[0m\u001b[0;34m\u001b[0m\u001b[0m\n\u001b[0m",
            "\u001b[0;32m<ipython-input-27-d66d5a051192>\u001b[0m in \u001b[0;36mstart_mission\u001b[0;34m(self, spaceship, crew)\u001b[0m\n\u001b[1;32m     78\u001b[0m         \u001b[0;32mwhile\u001b[0m \u001b[0mlen\u001b[0m\u001b[0;34m(\u001b[0m\u001b[0mself\u001b[0m\u001b[0;34m.\u001b[0m\u001b[0mobjectives\u001b[0m\u001b[0;34m)\u001b[0m \u001b[0;34m>\u001b[0m \u001b[0;36m0\u001b[0m\u001b[0;34m:\u001b[0m\u001b[0;34m\u001b[0m\u001b[0;34m\u001b[0m\u001b[0m\n\u001b[1;32m     79\u001b[0m             \u001b[0mevent\u001b[0m \u001b[0;34m=\u001b[0m \u001b[0mself\u001b[0m\u001b[0;34m.\u001b[0m\u001b[0mgenerate_event\u001b[0m\u001b[0;34m(\u001b[0m\u001b[0;34m)\u001b[0m\u001b[0;34m\u001b[0m\u001b[0;34m\u001b[0m\u001b[0m\n\u001b[0;32m---> 80\u001b[0;31m             \u001b[0mself\u001b[0m\u001b[0;34m.\u001b[0m\u001b[0mhandle_event\u001b[0m\u001b[0;34m(\u001b[0m\u001b[0mevent\u001b[0m\u001b[0;34m,\u001b[0m \u001b[0mspaceship\u001b[0m\u001b[0;34m,\u001b[0m \u001b[0mcrew\u001b[0m\u001b[0;34m)\u001b[0m\u001b[0;34m\u001b[0m\u001b[0;34m\u001b[0m\u001b[0m\n\u001b[0m\u001b[1;32m     81\u001b[0m \u001b[0;34m\u001b[0m\u001b[0m\n\u001b[1;32m     82\u001b[0m             \u001b[0;32mif\u001b[0m \u001b[0mspaceship\u001b[0m\u001b[0;34m.\u001b[0m\u001b[0mhull_integrity\u001b[0m \u001b[0;34m<=\u001b[0m \u001b[0;36m0\u001b[0m \u001b[0;32mor\u001b[0m \u001b[0many\u001b[0m\u001b[0;34m(\u001b[0m\u001b[0mmember\u001b[0m\u001b[0;34m.\u001b[0m\u001b[0mhealth\u001b[0m \u001b[0;34m<=\u001b[0m \u001b[0;36m0\u001b[0m \u001b[0;32mfor\u001b[0m \u001b[0mmember\u001b[0m \u001b[0;32min\u001b[0m \u001b[0mcrew\u001b[0m\u001b[0;34m)\u001b[0m\u001b[0;34m:\u001b[0m\u001b[0;34m\u001b[0m\u001b[0;34m\u001b[0m\u001b[0m\n",
            "\u001b[0;32m<ipython-input-27-d66d5a051192>\u001b[0m in \u001b[0;36mhandle_event\u001b[0;34m(self, event, spaceship, crew)\u001b[0m\n\u001b[1;32m    111\u001b[0m             \u001b[0mspaceship\u001b[0m\u001b[0;34m.\u001b[0m\u001b[0mfuel_level\u001b[0m \u001b[0;34m+=\u001b[0m \u001b[0mevent\u001b[0m\u001b[0;34m[\u001b[0m\u001b[0;34m'value'\u001b[0m\u001b[0;34m]\u001b[0m\u001b[0;34m\u001b[0m\u001b[0;34m\u001b[0m\u001b[0m\n\u001b[1;32m    112\u001b[0m         \u001b[0;32melif\u001b[0m \u001b[0mevent\u001b[0m\u001b[0;34m[\u001b[0m\u001b[0;34m'type'\u001b[0m\u001b[0;34m]\u001b[0m \u001b[0;34m==\u001b[0m \u001b[0;34m'objective_complete'\u001b[0m\u001b[0;34m:\u001b[0m\u001b[0;34m\u001b[0m\u001b[0;34m\u001b[0m\u001b[0m\n\u001b[0;32m--> 113\u001b[0;31m             \u001b[0mself\u001b[0m\u001b[0;34m.\u001b[0m\u001b[0mobjectives\u001b[0m\u001b[0;34m.\u001b[0m\u001b[0mpop\u001b[0m\u001b[0;34m(\u001b[0m\u001b[0mevent\u001b[0m\u001b[0;34m[\u001b[0m\u001b[0;34m'objective'\u001b[0m\u001b[0;34m]\u001b[0m\u001b[0;34m)\u001b[0m\u001b[0;34m\u001b[0m\u001b[0;34m\u001b[0m\u001b[0m\n\u001b[0m\u001b[1;32m    114\u001b[0m             \u001b[0mprint\u001b[0m\u001b[0;34m(\u001b[0m\u001b[0;34m'Цель'\u001b[0m\u001b[0;34m,\u001b[0m \u001b[0mevent\u001b[0m\u001b[0;34m[\u001b[0m\u001b[0;34m'objective'\u001b[0m\u001b[0;34m]\u001b[0m\u001b[0;34m,\u001b[0m \u001b[0;34m'достигнута!'\u001b[0m\u001b[0;34m)\u001b[0m\u001b[0;34m\u001b[0m\u001b[0;34m\u001b[0m\u001b[0m\n",
            "\u001b[0;31mTypeError\u001b[0m: 'str' object cannot be interpreted as an integer"
          ]
        }
      ]
    },
    {
      "cell_type": "markdown",
      "source": [
        "# Дополнительно:"
      ],
      "metadata": {
        "id": "F7mRVsZjCXk0"
      }
    },
    {
      "cell_type": "markdown",
      "source": [
        "**Описание:** создайте консольную версию игры крестики-нолики, используя классы"
      ],
      "metadata": {
        "id": "X4Lkf86UCc1h"
      }
    },
    {
      "cell_type": "code",
      "source": [],
      "metadata": {
        "id": "x9OxpNsyCcUo"
      },
      "execution_count": null,
      "outputs": []
    }
  ]
}