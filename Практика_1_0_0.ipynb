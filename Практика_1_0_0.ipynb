{
  "nbformat": 4,
  "nbformat_minor": 0,
  "metadata": {
    "colab": {
      "provenance": []
    },
    "kernelspec": {
      "name": "python3",
      "display_name": "Python 3"
    },
    "language_info": {
      "name": "python"
    }
  },
  "cells": [
    {
      "cell_type": "markdown",
      "source": [
        "# Задание (совместное с преподавателем)\n",
        "\n",
        "\n"
      ],
      "metadata": {
        "id": "-CSHUbWzCqeM"
      }
    },
    {
      "cell_type": "markdown",
      "source": [
        "ФИО: Моргенштерн Дмитрий Игоревич"
      ],
      "metadata": {
        "id": "fLDS5f_mCnPa"
      }
    },
    {
      "cell_type": "markdown",
      "source": [
        "Напишите систему для учёта отпусков с возможностью узнавать, сколько дней отпуска осталось у того или иного сотрудника.\n",
        "Для этого создайте класс Employee со следующими методами:\n",
        "\n",
        "- Метод consume_vacation должен отвечать за списание дней отпуска.\n",
        "\n",
        "Единственный параметр этого метода (кроме self) — количество потраченных отпускных дней (целое число).\n",
        "\n",
        "При вызове метода consume_vacation соответствующее количество дней должно вычитаться из общего числа доступных отпускных дней сотрудника.\n",
        "\n",
        "Чтобы определить число доступных отпускных дней конкретного сотрудника, в классе опишите атрибут экземпляра |, который по умолчанию будет равен значению атрибута класса vacation_days, и используйте этот атрибут в работе метода.\n",
        "\n",
        "- Метод get_vacation_details должен возвращать остаток отпускных дней сотрудника в формате: ```Остаток отпускных дней: <число>.```\n",
        "\n",
        "\n",
        "Чтобы проверить работу программы:\n",
        "1. Создайте экземпляр класса Employee.\n",
        "2. Вызовите метод consume_vacation, указав подходящее значение аргумента, например 7.\n",
        "3. Вызовите метод get_vacation_details."
      ],
      "metadata": {
        "id": "a_flBjZOCwYz"
      }
    },
    {
      "cell_type": "code",
      "source": [
        "class Employee:\n",
        "  vacation_days = 28\n",
        "\n",
        "  def __init__(self, first_name, second_name, gender):\n",
        "    self.first_name = first_name\n",
        "    self.second_name = second_name\n",
        "    self.gender = gender\n",
        "    self.remaining_vacation_days = self.vacation_days\n",
        "\n",
        "  def consume_vacation(self, days):\n",
        "    self.remaining_vacation_days -= days\n",
        "\n",
        "  def get_vacation_details(self):\n",
        "    return f'Остаток отпускных дней: {self.remaining_vacation_days}.'"
      ],
      "metadata": {
        "id": "2TyRY9a1XCOu"
      },
      "execution_count": null,
      "outputs": []
    },
    {
      "cell_type": "code",
      "source": [
        "employee1 = Employee('Дарья', 'Овченкова', 'ж')\n",
        "employee2 = Employee('Доронин', 'Иван', 'м')\n",
        "\n",
        "\n",
        "print(employee1.first_name, employee1.get_vacation_details())\n",
        "print(employee1.first_name, 'уехала в отпуск на 9 дней')\n",
        "\n",
        "employee1.consume_vacation(9)\n",
        "\n",
        "print(employee1.first_name, employee1.get_vacation_details())\n",
        "\n",
        "\n",
        "print(employee2.first_name, employee2.get_vacation_details())\n",
        "print(employee2.first_name, 'уехал в отпуск на 4 дня')\n",
        "\n",
        "employee2.consume_vacation(4)\n",
        "\n",
        "print(employee2.first_name, employee2.get_vacation_details())"
      ],
      "metadata": {
        "colab": {
          "base_uri": "https://localhost:8080/"
        },
        "id": "qoWOTIt96ejc",
        "outputId": "feee7a28-2310-4978-946e-cb88cd803f6c"
      },
      "execution_count": null,
      "outputs": [
        {
          "output_type": "stream",
          "name": "stdout",
          "text": [
            "Дарья Остаток отпускных дней: 28.\n",
            "Дарья уехала в отпуск на 9 дней\n",
            "Дарья Остаток отпускных дней: 19.\n",
            "Доронин Остаток отпускных дней: 28.\n",
            "Доронин уехал в отпуск на 4 дня\n",
            "Доронин Остаток отпускных дней: 24.\n"
          ]
        }
      ]
    },
    {
      "cell_type": "markdown",
      "source": [
        "# Задание 1"
      ],
      "metadata": {
        "id": "C0Z_wXo9XIr2"
      }
    },
    {
      "cell_type": "markdown",
      "source": [
        "Задание:\n",
        "\n",
        "Создайте класс с именем Rectangle который имеет:\n",
        "- Атрибуты ширины и высоты.\n",
        "- Метод расчета площади.\n",
        "- Метод расчета периметра.\n",
        "- Метод отображения размеров прямоугольника.\n",
        "\n",
        "Создайте экземпляр класса Rectangleи продемонстрируйте его функциональность."
      ],
      "metadata": {
        "id": "jQ4qqd8nEZBY"
      }
    },
    {
      "cell_type": "code",
      "source": [
        "class Rectangle:\n",
        "\n",
        "  def __init__(self, width, height):\n",
        "    self.width = width\n",
        "    self.height = height\n",
        "\n",
        "  def square(self):\n",
        "    return f'Площадь прямоугольника: {self.width*self.height}.'\n",
        "\n",
        "  def perimeter(self):\n",
        "    return f'Периметр прямоугольника: {2 * self.width + 2 * self.height}.'\n",
        "\n",
        "  def sizes(self):\n",
        "    return f'Ширина прямоугольника: {self.width}, высота прямоугольника: {self.height}.'"
      ],
      "metadata": {
        "id": "dG6uNPqTEAvt"
      },
      "execution_count": null,
      "outputs": []
    },
    {
      "cell_type": "code",
      "source": [
        "rectangle = Rectangle(4, 10)\n",
        "\n",
        "\n",
        "print(rectangle.sizes())\n",
        "print(rectangle.square())\n",
        "print(rectangle.perimeter())"
      ],
      "metadata": {
        "colab": {
          "base_uri": "https://localhost:8080/"
        },
        "id": "PvjIItZ6--UJ",
        "outputId": "bc1366d6-2d73-4d94-e760-d95a0cc4169a"
      },
      "execution_count": null,
      "outputs": [
        {
          "output_type": "stream",
          "name": "stdout",
          "text": [
            "Ширина прямоугольника: 4, высота прямоугольника: 10.\n",
            "Площадь прямоугольника: 40.\n",
            "Периметр прямоугольника: 28.\n"
          ]
        }
      ]
    },
    {
      "cell_type": "markdown",
      "source": [
        "# Задание 2"
      ],
      "metadata": {
        "id": "0ct1u6lqE73j"
      }
    },
    {
      "cell_type": "markdown",
      "source": [
        "Задание: Создайте мини версию банковской системы:\n",
        "\n",
        "\n",
        "Инструкции:\n",
        "\n",
        "1. Создайте класс BankAccountсо следующими атрибутами:\n",
        "    - account_holder -  владелец счета\n",
        "    - balance - баланс счета\n",
        "\n",
        "2. Реализуйте следующие методы:\n",
        "    - Метод для инициализации владельца счета: имя владельца счета и установите начальный баланс на 0.\n",
        "    - deposit(amount): Добавьте указанную сумму к балансу.\n",
        "    - withdraw(amount): Вычесть указанную сумму из баланса, если средств достаточно; в противном случае вывести предупреждение.\n",
        "    - get_balance(): Возврат текущего баланса.\n",
        "\n",
        "\n",
        "Создайте объект класса и продемонстрируйте его возможности"
      ],
      "metadata": {
        "id": "FOpIpcLxE-WK"
      }
    },
    {
      "cell_type": "code",
      "source": [
        "class BankAccountсо:\n",
        "  balance = 0\n",
        "\n",
        "  def __init__(self, account_holder):\n",
        "    self.account_holder = account_holder\n",
        "\n",
        "  def deposit(self, amount):\n",
        "    self.balance += amount\n",
        "\n",
        "  def withdraw(self, amount):\n",
        "    if self.balance >= amount:\n",
        "      self.balance -= amount\n",
        "    else:\n",
        "      print('Недостаточно средств')\n",
        "\n",
        "  def get_balance(self):\n",
        "    return f'Текущий баланс: {self.balance}.'"
      ],
      "metadata": {
        "id": "WWXNIUrCE99W"
      },
      "execution_count": null,
      "outputs": []
    },
    {
      "cell_type": "code",
      "source": [
        "holder1 = BankAccountсо('Дмитрий')\n",
        "\n",
        "\n",
        "holder1.deposit(100)\n",
        "\n",
        "print(holder1.get_balance())\n",
        "\n",
        "holder1.withdraw(35)\n",
        "\n",
        "print(holder1.get_balance())"
      ],
      "metadata": {
        "colab": {
          "base_uri": "https://localhost:8080/"
        },
        "id": "T_UgjZRGDD0S",
        "outputId": "874c3027-5780-4cb8-c608-f0ef67a2f2e8"
      },
      "execution_count": null,
      "outputs": [
        {
          "output_type": "stream",
          "name": "stdout",
          "text": [
            "Текущий баланс: 100.\n",
            "Текущий баланс: 65.\n"
          ]
        }
      ]
    },
    {
      "cell_type": "code",
      "source": [
        "holder2 = BankAccountсо('Евгений')\n",
        "\n",
        "\n",
        "holder2.deposit(20)\n",
        "\n",
        "print(holder2.get_balance())\n",
        "\n",
        "holder2.withdraw(35)\n",
        "\n",
        "print(holder2.get_balance())"
      ],
      "metadata": {
        "colab": {
          "base_uri": "https://localhost:8080/"
        },
        "id": "pEA88UlmECbn",
        "outputId": "7f2bc5d4-7218-4e01-8459-b05a8fdc575b"
      },
      "execution_count": null,
      "outputs": [
        {
          "output_type": "stream",
          "name": "stdout",
          "text": [
            "Текущий баланс: 20.\n",
            "Недостаточно средств\n",
            "Текущий баланс: 20.\n"
          ]
        }
      ]
    },
    {
      "cell_type": "markdown",
      "source": [
        "# Задание 3"
      ],
      "metadata": {
        "id": "C5DX5Uf2FfP6"
      }
    },
    {
      "cell_type": "markdown",
      "source": [
        "Возьмите код и задание (Рыцарь и дракон) из предыдущей практики и реализуйте его с применением классов"
      ],
      "metadata": {
        "id": "0cR-MYepFgz6"
      }
    },
    {
      "cell_type": "code",
      "source": [
        "import random\n",
        "\n",
        "\n",
        "class Knight:\n",
        "\n",
        "  def __init__(self, name, armor, weapon, damage_range):\n",
        "    self.name = name\n",
        "    self.armor = armor\n",
        "    self.weapon = weapon\n",
        "    self.damage_range = damage_range\n",
        "    self.health = 100\n",
        "\n",
        "  def attack(self, target):\n",
        "    damage = random.randint(*self.damage_range)\n",
        "    target.take_damage(damage)\n",
        "    print(f'{self.name} нанес {damage} урона {target.name}.')\n",
        "\n",
        "  def take_damage(self, damage):\n",
        "    self.health -= damage\n",
        "    if self.health <= 0:\n",
        "      self.health = 0\n",
        "      print(f'{self.name} умер.')\n",
        "    else:\n",
        "      print(f'{self.name} получил {damage} урона. Осталось здоровья: {self.health}.')\n",
        "\n",
        "  def is_alive(self):\n",
        "    return self.health > 0\n",
        "\n",
        "\n",
        "class Dragon():\n",
        "\n",
        "  def __init__(self, name, damage_range):\n",
        "    self.name = name\n",
        "    self.damage_range = damage_range\n",
        "    self.health = 200\n",
        "\n",
        "  def attack(self, target):\n",
        "    damage = random.randint(*self.damage_range)\n",
        "    target.take_damage(damage)\n",
        "    print(f'{self.name} нанес {damage} урона {target.name}.')\n",
        "\n",
        "  def take_damage(self, damage):\n",
        "    self.health -= damage\n",
        "    if self.health <= 0:\n",
        "      self.health = 0\n",
        "      print(f'{self.name} умер.')\n",
        "    else:\n",
        "      print(f'{self.name} получил {damage} урона. Осталось здоровья: {self.health}.')\n",
        "\n",
        "  def is_alive(self):\n",
        "    return self.health > 0\n",
        "\n",
        "\n",
        "def battle(knight, dragon):\n",
        "  round_number = 1\n",
        "  print('Начало битвы!')\n",
        "\n",
        "  while knight.is_alive() and dragon.is_alive():\n",
        "    print(f'Раунд {round_number}:')\n",
        "    knight.attack(dragon)\n",
        "    if dragon.is_alive():\n",
        "      dragon.attack(knight)\n",
        "    round_number += 1\n",
        "\n",
        "  if knight.is_alive():\n",
        "    print(f'{knight.name} победил!')\n",
        "  else:\n",
        "    print(f'{dragon.name} победил!')\n"
      ],
      "metadata": {
        "id": "Oz9BZbhAFwua"
      },
      "execution_count": null,
      "outputs": []
    },
    {
      "cell_type": "code",
      "source": [
        "knight = Knight(name='Ланселот', armor='Стальная броня', weapon='Копье', damage_range=(0, 50))\n",
        "dragon = Dragon(name='Смауг', damage_range=(15, 60))\n",
        "\n",
        "\n",
        "battle(knight, dragon)"
      ],
      "metadata": {
        "colab": {
          "base_uri": "https://localhost:8080/"
        },
        "id": "Y75GAf0offPU",
        "outputId": "8a249aaa-62ba-4cda-c4b0-77a3e1f262f0"
      },
      "execution_count": null,
      "outputs": [
        {
          "output_type": "stream",
          "name": "stdout",
          "text": [
            "Начало битвы!\n",
            "Раунд 1:\n",
            "Смауг получил 4 урона. Осталось здоровья: 196.\n",
            "Ланселот нанес 4 урона Смауг.\n",
            "Ланселот получил 17 урона. Осталось здоровья: 83.\n",
            "Смауг нанес 17 урона Ланселот.\n",
            "Раунд 2:\n",
            "Смауг получил 13 урона. Осталось здоровья: 183.\n",
            "Ланселот нанес 13 урона Смауг.\n",
            "Ланселот получил 38 урона. Осталось здоровья: 45.\n",
            "Смауг нанес 38 урона Ланселот.\n",
            "Раунд 3:\n",
            "Смауг получил 20 урона. Осталось здоровья: 163.\n",
            "Ланселот нанес 20 урона Смауг.\n",
            "Ланселот получил 17 урона. Осталось здоровья: 28.\n",
            "Смауг нанес 17 урона Ланселот.\n",
            "Раунд 4:\n",
            "Смауг получил 2 урона. Осталось здоровья: 161.\n",
            "Ланселот нанес 2 урона Смауг.\n",
            "Ланселот умер.\n",
            "Смауг нанес 51 урона Ланселот.\n",
            "Смауг победил!\n"
          ]
        }
      ]
    },
    {
      "cell_type": "markdown",
      "source": [
        "# Дополнительное задание\n"
      ],
      "metadata": {
        "id": "b_mJHXcQGI9t"
      }
    },
    {
      "cell_type": "markdown",
      "source": [
        "Задача: Система управления библиотекой\n",
        "\n",
        "**Цель**\n",
        "Создайте простую систему управления библиотекой, которая позволит пользователям добавлять книги, брать книги, возвращать книги и просматривать список доступных книг.\n",
        "\n",
        "**Требования**\n",
        "\n",
        "1. **Определение класса**:\n",
        "   – Создайте класс с именем «Book» со следующими атрибутами:\n",
        "     - `title`\n",
        "     - `автор`\n",
        "     - `isbn`\n",
        "     - `is_borrowed` (по умолчанию `False`)\n",
        "\n",
        "2. **Класс библиотеки**:\n",
        "   - Создайте класс с именем Library, который управляет коллекцией книг.\n",
        "   - Класс должен иметь следующие методы:\n",
        "     - `__init__(self)`: инициализирует пустой список книг.\n",
        "     - `add_book(self, book: Book)`: добавляет новую книгу в библиотеку.\n",
        "     - `borrow_book(self, isbn: str)`: помечает книгу как заимствованную. Если книга не найдена или уже взята, выведите соответствующее сообщение.\n",
        "     - `return_book(self, isbn: str)`: помечает книгу как возвращенную. Если книга не найдена или не была взята взаймы, выведите соответствующее сообщение.\n",
        "     - `list_available_books(self)`: печатает список всех доступных книг в библиотеке.\n",
        "     - `find_book(self, isbn: str)`: возвращает объект книги, если он найден, в противном случае возвращает `None`.\n",
        "\n",
        "3. **Взаимодействие с пользователем**:\n",
        "   - Создайте простое текстовое меню, которое позволит пользователям:\n",
        "     - Добавить книгу\n",
        "     - Одолжить книгу\n",
        "     - Вернуть книгу\n",
        "     - Список доступных книг\n",
        "     - Выйти из программы"
      ],
      "metadata": {
        "id": "pnIUdFPcGOVL"
      }
    },
    {
      "cell_type": "code",
      "source": [
        "class Book:\n",
        "\n",
        "  def __init__(self, title, author, isbn):\n",
        "    self.title = title\n",
        "    self.author = author\n",
        "    self.isbn = isbn\n",
        "    self.is_borrowed = False\n",
        "\n",
        "\n",
        "class Library:\n",
        "\n",
        "  def __init__(self):\n",
        "    self.books = []\n",
        "\n",
        "  def add_book(self, book: Book):\n",
        "    self.books.append(book)\n",
        "    print(f'Книга {book.title} добавлена в библиотеку.')\n",
        "\n",
        "  def borrow_book(self, isbn: str):\n",
        "    book = self.find_book(isbn)\n",
        "    if book is None:\n",
        "      print(f'Книга с isbn {isbn} отсутствует в библиотеке.')\n",
        "    elif book.is_borrowed:\n",
        "      print(f'Книга {book.title} уже взята.')\n",
        "    else:\n",
        "      book.is_borrowed = True\n",
        "      print(f'Вы взяли книгу {book.title}.')\n",
        "\n",
        "  def return_book(self, isbn: str):\n",
        "    book = self.find_book(isbn)\n",
        "    if book is None:\n",
        "      print(f'Книга с isbn {isbn} отсутствует в библиотеке.')\n",
        "    elif not book.is_borrowed:\n",
        "      print(f'Книга {book.title} не была взята.')\n",
        "    else:\n",
        "      book.is_borrowed = False\n",
        "      print(f'Вы вернули книгу {book.title}.')\n",
        "\n",
        "  def list_available_books(self):\n",
        "    available_books = [book for book in self.books if not book.is_borrowed]\n",
        "    if len(available_books) == 0:\n",
        "      print('Библиотека пуста')\n",
        "    else:\n",
        "      print('Доступные книги:')\n",
        "      for book in available_books:\n",
        "        print(f'- {book}')\n",
        "\n",
        "  def find_book(self, isbn: str):\n",
        "    for book in self.books:\n",
        "      if book.isbn == isbn:\n",
        "        return book\n",
        "    return None\n",
        "\n",
        "\n"
      ],
      "metadata": {
        "id": "GKKmdfN8GL6f"
      },
      "execution_count": null,
      "outputs": []
    },
    {
      "cell_type": "code",
      "source": [
        "my_library = Library()\n",
        "\n",
        "\n",
        "while True:\n",
        "  print('\\nМеню')\n",
        "  print('1. Добавить книгу')\n",
        "  print('2. Взять книгу')\n",
        "  print('3. Вернуть книгу')\n",
        "  print('4. Список доступных книг')\n",
        "  print('5. Выход')\n",
        "\n",
        "  choice = input('Ваш выбор: ')\n",
        "\n",
        "  if choice == '1':\n",
        "    title = input('Введите название книги: ')\n",
        "    author = input('Введите автора книги: ')\n",
        "    isbn = input('Введите ISBN книги: ')\n",
        "    new_book = Book(title, author, isbn)\n",
        "    my_library.add_book(new_book)\n",
        "\n",
        "  elif choice == '2':\n",
        "    isbn = input('Введите ISBN книги: ')\n",
        "    my_library.borrow_book(isbn)\n",
        "\n",
        "  elif choice == '3':\n",
        "    isbn = input('Введите ISBN книги: ')\n",
        "    my_library.return_book(isbn)\n",
        "\n",
        "  elif choice == '4':\n",
        "    my_library.list_available_books()\n",
        "\n",
        "  elif choice == '5':\n",
        "    break\n",
        "\n",
        "  else:\n",
        "    print('Неверный ввод. Попробуйте еще раз.')"
      ],
      "metadata": {
        "colab": {
          "base_uri": "https://localhost:8080/"
        },
        "id": "vhuW4n-cLOn6",
        "outputId": "ba5060f4-619f-4a3d-b9da-7115f73647c7"
      },
      "execution_count": null,
      "outputs": [
        {
          "name": "stdout",
          "output_type": "stream",
          "text": [
            "\n",
            "Меню\n",
            "1. Добавить книгу\n",
            "2. Взять книгу\n",
            "3. Вернуть книгу\n",
            "4. Список доступных книг\n",
            "5. Выход\n",
            "Ваш выбор: 5\n"
          ]
        }
      ]
    }
  ]
}