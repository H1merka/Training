{
  "nbformat": 4,
  "nbformat_minor": 0,
  "metadata": {
    "colab": {
      "provenance": []
    },
    "kernelspec": {
      "name": "python3",
      "display_name": "Python 3"
    },
    "language_info": {
      "name": "python"
    }
  },
  "cells": [
    {
      "cell_type": "markdown",
      "source": [
        "Моргенштерн Дмитрий Игоревич\n",
        "\n",
        "---\n",
        "\n"
      ],
      "metadata": {
        "id": "tKNG_RzWxG6g"
      }
    },
    {
      "cell_type": "markdown",
      "source": [
        "# **Дисклеймер**\n",
        "\n",
        "В данной практике будет введен дополнительный критерий: чистота и читаемость кода, а также соблюдение правил описанных в начале практики"
      ],
      "metadata": {
        "id": "cFcrKfclKWh0"
      }
    },
    {
      "cell_type": "markdown",
      "source": [
        "\n",
        "\n",
        "---\n",
        "\n"
      ],
      "metadata": {
        "id": "0SnE87X1xDlV"
      }
    },
    {
      "cell_type": "markdown",
      "source": [
        "# Задание 1\n",
        "\n",
        "**Задача:**\n",
        "\n",
        "Напишите функцию очищающий список от дубликтов\n",
        "\n",
        "\n",
        "*Запрещено:*\n",
        "\n",
        "*   Использовать set() или готовые функции очищающие список от дубликатов\n",
        "\n",
        "Вввод:\n",
        "\n",
        "```\n",
        "apple banana apple 1 3 4 4 5\n",
        "```\n",
        "\n",
        "\n",
        "Вывод:\n",
        "\n",
        "```\n",
        "apple banana 1 3 4 5\n",
        "```\n",
        "\n"
      ],
      "metadata": {
        "id": "VxawR9NubT_F"
      }
    },
    {
      "cell_type": "code",
      "source": [
        "def remove_duplicates(lst):\n",
        "    \"\"\"Функция удаляющая дубликаты из списка.\"\"\"\n",
        "    unique_lst = []\n",
        "    for item in lst:\n",
        "        if item not in unique_lst:\n",
        "            unique_lst.append(item)\n",
        "    return unique_lst\n",
        "\n",
        "\n",
        "# Пример использования.\n",
        "my_list = [1, 2, 3, 3, 4, 5, 5, 6]\n",
        "result = remove_duplicates(my_list)\n",
        "print(result)\n"
      ],
      "metadata": {
        "id": "ml5gnbPXbeju",
        "colab": {
          "base_uri": "https://localhost:8080/"
        },
        "outputId": "983d9fcc-85e9-460d-b3a6-24bdc8ac2706"
      },
      "execution_count": null,
      "outputs": [
        {
          "output_type": "stream",
          "name": "stdout",
          "text": [
            "[1, 2, 3, 4, 5, 6]\n"
          ]
        }
      ]
    },
    {
      "cell_type": "markdown",
      "source": [
        "# Задание 2\n",
        "\n",
        "**Задача:**\n",
        "\n",
        "Написать функцию для нахождения простых чисел в диапазоне\n",
        "\n",
        "Ввод:\n",
        "\n",
        "```\n",
        "10, 50\n",
        "```\n",
        "\n",
        "Вывод:\n",
        "\n",
        "```\n",
        "11, 13, 17, 19, 23, 29, 31, 37, 41, 43, 47\n",
        "```"
      ],
      "metadata": {
        "id": "y05x0eD0cVCC"
      }
    },
    {
      "cell_type": "code",
      "source": [
        "def find_primes_in_range():\n",
        "    \"\"\"\n",
        "    Краткое описание функции.\n",
        "\n",
        "    Запрашивает у пользователя начало\n",
        "    и конец диапазона и находит все простые числа в этом диапазоне.\n",
        "    \"\"\"\n",
        "    start = int(input('Введите начальное число диапазона: '))\n",
        "    end = int(input('Введите конечное число диапазона: '))\n",
        "\n",
        "    primes = []\n",
        "    for num in range(start, end + 1):\n",
        "        flag = True\n",
        "        if num == 1:\n",
        "            pass\n",
        "        elif num == 2:\n",
        "            flag = False\n",
        "        else:\n",
        "            for i in range(2, num):\n",
        "                if (num % i) == 0:\n",
        "                    flag = False\n",
        "\n",
        "        if flag is True:\n",
        "            primes.append(num)\n",
        "\n",
        "    return primes\n",
        "\n",
        "\n",
        "# Вызываем функцию.\n",
        "print(find_primes_in_range())\n"
      ],
      "metadata": {
        "id": "XSMJnLgrc6Bf",
        "colab": {
          "base_uri": "https://localhost:8080/"
        },
        "outputId": "8449296e-7957-4182-e5d6-d2558b88c892"
      },
      "execution_count": null,
      "outputs": [
        {
          "output_type": "stream",
          "name": "stdout",
          "text": [
            "Введите начальное число диапазона: 10\n",
            "Введите конечное число диапазона: 50\n",
            "[11, 13, 17, 19, 23, 29, 31, 37, 41, 43, 47]\n"
          ]
        }
      ]
    },
    {
      "cell_type": "markdown",
      "source": [
        "# Задание 3\n",
        "\n",
        "Напишите функцию для объединения двух списков (список ключей и список значении) в словарь\n",
        "\n",
        "*Запрещено:*\n",
        "\n",
        "*   Использования готовых функции для объединения списков (пример: zip() )\n",
        "\n",
        "Дано:\n",
        "\n",
        "```\n",
        "keys = ['a', 'b', 'c', 'e' ]\n",
        "values = [1, 2, 3, 4]\n",
        "```\n",
        "\n",
        "Вывод:\n",
        "```\n",
        "{'a': 1, 'b': 2, 'c': 3, 'e': 4}\n",
        "```\n",
        "\n",
        "\n"
      ],
      "metadata": {
        "id": "vYM0LyxxdElN"
      }
    },
    {
      "cell_type": "code",
      "source": [
        "def merge_lists_to_dict(keys_list, values_list):\n",
        "    \"\"\"\n",
        "    Краткое описание функции.\n",
        "\n",
        "    Объединяет два списка (ключей и значений)\n",
        "    в словарь без использования встроенных функций.\n",
        "    \"\"\"\n",
        "    result = {}\n",
        "    for i in range(len(keys_list)):\n",
        "        result[keys_list[i]] = values_list[i]\n",
        "    return result\n",
        "\n",
        "\n",
        "# Пример использования.\n",
        "keys_list = ['a', 'b', 'c']\n",
        "values_list = [1, 2, 3]\n",
        "print(merge_lists_to_dict(keys_list, values_list))\n"
      ],
      "metadata": {
        "id": "CRvhHTjCdvjS",
        "colab": {
          "base_uri": "https://localhost:8080/"
        },
        "outputId": "04a2a7ba-ae5f-4c8e-aa7f-d4ad5748aea2"
      },
      "execution_count": null,
      "outputs": [
        {
          "output_type": "stream",
          "name": "stdout",
          "text": [
            "{'a': 1, 'b': 2, 'c': 3}\n"
          ]
        }
      ]
    },
    {
      "cell_type": "markdown",
      "source": [
        "# Задание 4\n",
        "\n",
        "Напишите функцию(ии) для подсчета статистических параметров:\n",
        "*   Сумму\n",
        "*   Среднее арифметическое\n",
        "*   Медиану\n",
        "*   Моду\n",
        "\n",
        "\n",
        "*Запрещено:*\n",
        "\n",
        "*   sum()\n",
        "*   sorted()\n",
        "*   и других функции предоставляющих готовое решение задания\n",
        "\n",
        "Дано:\n",
        "\n",
        "```\n",
        "numbers = [1, 2, 2, 3, 4, 5, 6, 7, 8 ,9 ,10]\n",
        "\n",
        "```\n",
        "\n",
        "Вывод:\n",
        "```\n",
        "{'mean': 5.181818181818182, 'median': 5, 'mode': 2, 'sum': 57}\n",
        "```\n"
      ],
      "metadata": {
        "id": "L_w8H8i-fQcP"
      }
    },
    {
      "cell_type": "code",
      "source": [
        "def static_params(num_list):\n",
        "    \"\"\"\n",
        "    Краткое описание функции.\n",
        "\n",
        "    Находит сумму, среднее арифметическое, медиану и моду списка чисел.\n",
        "    \"\"\"\n",
        "    static_params_dict = {}\n",
        "    counter = 0\n",
        "    num_sum = 0\n",
        "    for number in num_list:\n",
        "        counter += 1\n",
        "        num_sum += number\n",
        "    num_mean = num_sum / counter\n",
        "    static_params_dict['sum'] = num_sum\n",
        "    static_params_dict['mean'] = num_mean\n",
        "\n",
        "    for i in range(counter):\n",
        "        for j in range(0, counter-i-1):\n",
        "            if num_list[j] > num_list[j+1]:\n",
        "                num_list[j], num_list[j+1] = num_list[j+1], num_list[j]\n",
        "\n",
        "    if counter % 2 == 1:\n",
        "        num_median = num_list[counter // 2]\n",
        "    else:\n",
        "        num_median = (num_list[(counter - 1) // 2] + num_list[counter // 2]) / 2\n",
        "\n",
        "    static_params_dict['median'] = num_median\n",
        "\n",
        "    mode_counts = {}\n",
        "\n",
        "    for number in num_list:\n",
        "        if number in mode_counts:\n",
        "            mode_counts[number] += 1\n",
        "        else:\n",
        "            mode_counts[number] = 1\n",
        "\n",
        "    max_count = 0\n",
        "    mode = 0\n",
        "\n",
        "    for key in mode_counts.keys():\n",
        "        if mode_counts[key] > max_count:\n",
        "            max_count = mode_counts[key]\n",
        "            mode = key\n",
        "\n",
        "    static_params_dict['mode'] = mode\n",
        "\n",
        "    return static_params_dict\n",
        "\n",
        "\n",
        "# Пример использования.\n",
        "num_list = [1, 2, 2, 3, 4, 5, 6, 7, 8, 9, 10]\n",
        "print(static_params(num_list))\n"
      ],
      "metadata": {
        "id": "dW6jW_rjfuba",
        "colab": {
          "base_uri": "https://localhost:8080/"
        },
        "outputId": "89ee6ab8-567d-42c2-fe32-6ebad80d9d14"
      },
      "execution_count": null,
      "outputs": [
        {
          "output_type": "stream",
          "name": "stdout",
          "text": [
            "{'sum': 57, 'mean': 5.181818181818182, 'median': 5, 'mode': 2}\n"
          ]
        }
      ]
    },
    {
      "cell_type": "markdown",
      "source": [
        "# Задание 5\n",
        "\n",
        "На ввод поступает строка символов. Строка состоит из слов, которые отделены друг от друга пробелами. Необходимо вывести самое длинное слово и его порядковый номер.\n",
        "\n",
        "*Запрещено:*\n",
        "\n",
        "*   len()\n",
        "\n",
        "Ввод:\n",
        "\n",
        "```\n",
        "Страдание и боль всегда обязательны для широкого сознания и глубокого сердца.\n",
        "\n",
        "```\n",
        "\n",
        "Вывод:\n",
        "```\n",
        "Самое длинное слово с номером 5: обязательны\n",
        "```"
      ],
      "metadata": {
        "id": "hZW0NZ7SgTcp"
      }
    },
    {
      "cell_type": "code",
      "source": [
        "def find_longest_word_and_index(sentence):\n",
        "    \"\"\"\n",
        "    Краткое описание функции.\n",
        "\n",
        "    Находит самое длинное слово в предложении,\n",
        "    а также определяет его порядковый номер.\n",
        "    \"\"\"\n",
        "    words = sentence.split()\n",
        "    longest_word = ''\n",
        "    longest_word_len = 0\n",
        "    longest_word_index = 0\n",
        "    current_index = 0\n",
        "\n",
        "    for word in words:\n",
        "        length = 0\n",
        "        for char in word:\n",
        "            length += 1\n",
        "        if length > longest_word_len:\n",
        "            longest_word = word\n",
        "            longest_word_len = length\n",
        "            longest_word_index = current_index\n",
        "        current_index += 1\n",
        "\n",
        "    return longest_word, longest_word_index + 1\n",
        "\n",
        "\n",
        "# Пример использования.\n",
        "sentence = 'Страдание и боль всегда обязательны для широкого сознания и глубокого сердца'\n",
        "longest_word, index = find_longest_word_and_index(sentence)\n",
        "print(f'Самое длинное слово с номером {index}: {longest_word}')\n"
      ],
      "metadata": {
        "id": "rC5DpHHLsDYp",
        "colab": {
          "base_uri": "https://localhost:8080/"
        },
        "outputId": "10176114-4a03-496e-ac15-5e94d10dbf6b"
      },
      "execution_count": null,
      "outputs": [
        {
          "output_type": "stream",
          "name": "stdout",
          "text": [
            "Самое длинное слово с номером 5: обязательны\n"
          ]
        }
      ]
    },
    {
      "cell_type": "markdown",
      "source": [
        "# Задание 6\n",
        "\n",
        "Напишите программу, для управления оценками студентов, со следующими функциями:\n",
        "\n",
        "* Добавление информации о студенте и его оценках.\n",
        "* Подсчет среднего балла студента.\n",
        "* Получение списка всех студентов с их средними баллами.\n",
        "* Поиск студента по имени и вывод его оценок и среднего балла.\n",
        "\n",
        "\n",
        "\n"
      ],
      "metadata": {
        "id": "k5BzJW5ZeaQN"
      }
    },
    {
      "cell_type": "code",
      "source": [
        "from typing import Dict\n",
        "\n",
        "\n",
        "def add_student(students, name, grades):\n",
        "    \"\"\"Добавление информации о студентах.\"\"\"\n",
        "    if name in students:\n",
        "        print(f'Студент с именем {name} уже существует.')\n",
        "    else:\n",
        "        students[name] = grades\n",
        "        print(f'Информация о студенте {name} была успешно добавлена.')\n",
        "\n",
        "\n",
        "def get_students_with_avg_grades(students):\n",
        "    \"\"\"Получение списка всех студентов с их средними баллами.\"\"\"\n",
        "    students_with_avg = {}\n",
        "    for student_name, grades in students.items():\n",
        "        avg_grade = sum(grades) / len(grades)\n",
        "        students_with_avg[student_name] = round(avg_grade, 2)\n",
        "    return students_with_avg\n",
        "\n",
        "\n",
        "def search_student_by_name(students, name):\n",
        "    \"\"\"Поиск студента по имени.\"\"\"\n",
        "    if name in students:\n",
        "        grades = students[name]\n",
        "        avg_grade = sum(grades) / len(grades)\n",
        "        print(f'Имя студента: {name}')\n",
        "        print(f'Его оценки: {grades}')\n",
        "        print(f'Средний балл: {round(avg_grade, 2)}')\n",
        "    else:\n",
        "        print(f'Студента с именем {name} не найдено.')\n",
        "\n",
        "\n",
        "# Пример использования.\n",
        "students: Dict[str, list[int]] = {}\n",
        "\n",
        "# Добавление информации о студентах.\n",
        "add_student(students, 'Иван Иванов', [4, 5, 4, 5])\n",
        "add_student(students, 'Анна Петрова', [5, 5, 5, 4])\n",
        "add_student(students, 'Сергей Сидоров', [3, 4, 3, 4])\n",
        "\n",
        "# Получение списка всех студентов с их средними баллами.\n",
        "students_with_avg = get_students_with_avg_grades(students)\n",
        "print('Список студентов с их средними баллами:')\n",
        "for student_name, avg_grade in students_with_avg.items():\n",
        "    print(f\"{student_name}: {avg_grade}\")\n",
        "\n",
        "# Поиск студента по имени.\n",
        "search_student_by_name(students, 'Иван Иванов')\n",
        "search_student_by_name(students, 'Максим Васильев')\n"
      ],
      "metadata": {
        "id": "cvhlltVbdyoL",
        "colab": {
          "base_uri": "https://localhost:8080/"
        },
        "outputId": "6b6cdc13-dc4e-4b6e-fb33-28675f6251a2"
      },
      "execution_count": null,
      "outputs": [
        {
          "output_type": "stream",
          "name": "stdout",
          "text": [
            "Информация о студенте Иван Иванов была успешно добавлена.\n",
            "Информация о студенте Анна Петрова была успешно добавлена.\n",
            "Информация о студенте Сергей Сидоров была успешно добавлена.\n",
            "Список студентов с их средними баллами:\n",
            "Иван Иванов: 4.5\n",
            "Анна Петрова: 4.75\n",
            "Сергей Сидоров: 3.5\n",
            "Имя студента: Иван Иванов\n",
            "Его оценки: [4, 5, 4, 5]\n",
            "Средний балл: 4.5\n",
            "Студента с именем Максим Васильев не найдено.\n"
          ]
        }
      ]
    },
    {
      "cell_type": "markdown",
      "source": [
        "# Задание 7\n",
        "\n",
        "\n",
        "**Задача:**\n",
        "\n",
        "Создайте приложение-викторину с командной строкой, которое задает пользователям вопросы по различным темам и отслеживает их результаты.\n",
        "\n",
        "Ключевые особенности:\n",
        "\n",
        "*   Хранение данных о вопросах и ответах на них, а также баллов за каждый вопрос\n",
        "*   Реализуйте функцию для представления вопросов, принятия ответов пользователей и предоставления обратной связи о том, являются ли ответы правильными или неправильными.\n",
        "*  После завершения викторины отобразите общий балл пользователя из числа ответов на вопросы.\n",
        "*  Реализуйте функцию добавления нового вопроса\n",
        "*  Реализуйте функцию перемешивания вопросов, для отображения случайного вопроса\n"
      ],
      "metadata": {
        "id": "iQ8Z-7PYgu1_"
      }
    },
    {
      "cell_type": "code",
      "source": [],
      "metadata": {
        "id": "DhxyYwHwh2V4"
      },
      "execution_count": null,
      "outputs": []
    }
  ]
}