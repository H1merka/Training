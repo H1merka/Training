{
  "nbformat": 4,
  "nbformat_minor": 0,
  "metadata": {
    "colab": {
      "provenance": []
    },
    "kernelspec": {
      "name": "python3",
      "display_name": "Python 3"
    },
    "language_info": {
      "name": "python"
    }
  },
  "cells": [
    {
      "cell_type": "markdown",
      "source": [
        "ФИО: Моргенштерн Дмитрий Игоревич"
      ],
      "metadata": {
        "id": "Bu5gIJfHNPHw"
      }
    },
    {
      "cell_type": "code",
      "execution_count": null,
      "metadata": {
        "id": "CbHI8c7cM9Eg"
      },
      "outputs": [],
      "source": []
    },
    {
      "cell_type": "markdown",
      "source": [
        "# **Задание 1**"
      ],
      "metadata": {
        "id": "VrNrBpmocGRd"
      }
    },
    {
      "cell_type": "markdown",
      "source": [
        "\n",
        "\n",
        "Дан словарь, содержащий имена и возраст людей, напишите программу выводящую возраст человека по имени\n",
        "\n",
        "Дано:\n",
        "\n",
        "```\n",
        "{\"Alice\": 25, \"Bob\": 30, \"Charlie\": 35}\n",
        "```\n",
        "\n",
        "Вввод:\n",
        "\n",
        "\n",
        "```\n",
        "Alice\n",
        "```\n",
        "\n",
        "Вывод:\n",
        "\n",
        "\n",
        "```\n",
        "Alice 25\n",
        "```\n"
      ],
      "metadata": {
        "id": "XhV1bnm1bR2h"
      }
    },
    {
      "cell_type": "code",
      "source": [
        "people_dict = {\"Alice\": 25, \"Bob\": 30, \"Charlie\": 35}\n",
        "name = input()\n",
        "\n",
        "if name in people_dict.keys():\n",
        "  print(name, people_dict[name])"
      ],
      "metadata": {
        "id": "PElJj6DvsgjD",
        "colab": {
          "base_uri": "https://localhost:8080/"
        },
        "outputId": "c8b3bb8c-fc94-4466-c67c-2080d89a2826"
      },
      "execution_count": 1,
      "outputs": [
        {
          "output_type": "stream",
          "name": "stdout",
          "text": [
            "Alice\n",
            "Alice 25\n"
          ]
        }
      ]
    },
    {
      "cell_type": "markdown",
      "source": [
        "# **Задание 2**\n"
      ],
      "metadata": {
        "id": "lpjJz-_YcJ-t"
      }
    },
    {
      "cell_type": "markdown",
      "source": [
        "\n",
        "\n",
        "Дан список, состоящий из целых чисел, необходимо написать функцию считающую сумму всех положительных четных чисел списка\n",
        "\n",
        "Ввод:\n",
        "\n",
        "```\n",
        "1, 2, 3, 4, 5, 6, 7, 8, 9\n",
        "```\n",
        "\n",
        "Вывод:\n",
        "\n",
        "\n",
        "```\n",
        "20\n",
        "```\n",
        "\n",
        "***Запрещено:***\n",
        "\n",
        "*   Использование готовых функций для суммирования чисел\n"
      ],
      "metadata": {
        "id": "tMEsAB4rUiWW"
      }
    },
    {
      "cell_type": "code",
      "source": [
        "input_string = input('Введите числа для списка: ')\n",
        "input_list = input_string.split(' ')\n",
        "\n",
        "total = 0\n",
        "\n",
        "for element in input_list:\n",
        "  number = int(element)\n",
        "  if (number > 0) and (number % 2 == 0):\n",
        "    total += number\n",
        "\n",
        "print(total)"
      ],
      "metadata": {
        "id": "wDNUFLeqNQS_",
        "colab": {
          "base_uri": "https://localhost:8080/"
        },
        "outputId": "e84c8c44-9212-4942-e874-303ad2e2a37a"
      },
      "execution_count": 4,
      "outputs": [
        {
          "output_type": "stream",
          "name": "stdout",
          "text": [
            "Введите числа для списка: 2 3 4\n",
            "6\n"
          ]
        }
      ]
    },
    {
      "cell_type": "markdown",
      "source": [
        "# **Задание 3**"
      ],
      "metadata": {
        "id": "WT_v-vz1dUZJ"
      }
    },
    {
      "cell_type": "markdown",
      "source": [
        "Дан словарь, содержащий название фрукта и его цвет, выведите список всех желтых фруктов\n",
        "\n",
        "\n",
        "Дано:\n",
        "\n",
        "```\n",
        "fruits_and_colors = {\n",
        "    \"apple\": \"red\",\n",
        "    \"banana\": \"yellow\",\n",
        "    \"mango\": \"yellow\",\n",
        "    \"orange\": \"orange\",\n",
        "    \"lemon\": \"yellow\",\n",
        "    \"grape\": \"purple\"\n",
        "}\n",
        "```\n",
        "\n",
        "Вывод:\n",
        "\n",
        "\n",
        "```\n",
        "Yellow fruits:\n",
        "banana\n",
        "lemon\n",
        "mango\n",
        "```\n",
        "\n"
      ],
      "metadata": {
        "id": "ZI5Xeh2DdXgF"
      }
    },
    {
      "cell_type": "code",
      "source": [
        "fruits_and_colors = {\n",
        "    \"apple\": \"red\",\n",
        "    \"banana\": \"yellow\",\n",
        "    \"mango\": \"yellow\",\n",
        "    \"orange\": \"orange\",\n",
        "    \"lemon\": \"yellow\",\n",
        "    \"grape\": \"purple\"\n",
        "}\n",
        "\n",
        "\n",
        "print('Yellow fruits:')\n",
        "\n",
        "for fruit in fruits_and_colors.keys():\n",
        "  if fruits_and_colors[fruit] == 'yellow':\n",
        "    print(fruit)"
      ],
      "metadata": {
        "id": "aNzFTkhKdkTG",
        "colab": {
          "base_uri": "https://localhost:8080/"
        },
        "outputId": "0dd9bf28-fe6a-4248-e6a5-ce0ab190ca5e"
      },
      "execution_count": 5,
      "outputs": [
        {
          "output_type": "stream",
          "name": "stdout",
          "text": [
            "Yellow fruits:\n",
            "banana\n",
            "mango\n",
            "lemon\n"
          ]
        }
      ]
    },
    {
      "cell_type": "markdown",
      "source": [
        "# **Задание 4**\n"
      ],
      "metadata": {
        "id": "iHtMGt2icM7w"
      }
    },
    {
      "cell_type": "markdown",
      "source": [
        "\n",
        "\n",
        "Дан словарь, необходимо написать функцию меняющую ключ и значение местами\n",
        "\n",
        "Дано:\n",
        "\n",
        "\n",
        "```\n",
        "{\"a\": 1, \"b\": 2, \"c\": 3}\n",
        "```\n",
        "\n",
        "Вывод:\n",
        "\n",
        "```\n",
        "{1: 'a', 2: 'b', 3: 'c'}\n",
        "```\n",
        "\n"
      ],
      "metadata": {
        "id": "rS3THsnBQ_EB"
      }
    },
    {
      "cell_type": "code",
      "source": [
        "input_dict = {\"a\": 1, \"b\": 2, \"c\": 3}\n",
        "output_dict = {}\n",
        "\n",
        "for key, value in input_dict.items():\n",
        "  key, value = value, key\n",
        "  output_dict[key] = value\n",
        "\n",
        "print(output_dict)"
      ],
      "metadata": {
        "id": "MNRusyLDcQ59",
        "colab": {
          "base_uri": "https://localhost:8080/"
        },
        "outputId": "a4e2ff69-0407-4470-e7a2-c3fec31f173d"
      },
      "execution_count": 6,
      "outputs": [
        {
          "output_type": "stream",
          "name": "stdout",
          "text": [
            "{1: 'a', 2: 'b', 3: 'c'}\n"
          ]
        }
      ]
    },
    {
      "cell_type": "markdown",
      "source": [
        "# **Задание 5**"
      ],
      "metadata": {
        "id": "x6ff5nd0cUxD"
      }
    },
    {
      "cell_type": "markdown",
      "source": [
        "Дан список слов, неограниченной длинны, сформируйте словарь, где в качестве ключа будет слово, а в качестве значения количество слов\n",
        "\n",
        "**Критерии**\n",
        "\n",
        "\n",
        "*   Словарь необходимо отсортировать по убыванию количества элементов в списке.\n",
        "*   Подсчет элементов должен быть реализован в отдельной функции\n",
        "*   Сортировка пары `ключ:значение` должна быть реализована также в виде отдельной функции\n",
        "\n",
        "\n",
        "\n",
        "\n",
        "Дано:\n",
        "```\n",
        "['apple','banana','orange','apple','apple','banana']\n",
        "```\n",
        "\n",
        "\n",
        "Вывод:\n",
        "```\n",
        "{'apple':3, 'banana': 2, 'orange': 1}\n",
        "```\n",
        "\n",
        "***Запрещено:***\n",
        "\n",
        "*   Использование готовых функций для сортировки\n",
        "*   Использование готовых функций для подсчета элементов\n",
        "\n"
      ],
      "metadata": {
        "id": "ypQNHOG4NQz3"
      }
    },
    {
      "cell_type": "code",
      "source": [
        "def count_elements(lst):\n",
        "    dictionary = {}\n",
        "    for word in lst:\n",
        "        if word in dictionary:\n",
        "            dictionary[word] += 1\n",
        "        else:\n",
        "            dictionary[word] = 1\n",
        "    return dictionary\n",
        "\n",
        "def sort_dictionary(lst):\n",
        "    dictionary = count_elements(lst)\n",
        "    amount_list = []\n",
        "    sorted_dict = {}\n",
        "\n",
        "    for value in dictionary.values():\n",
        "      amount_list.append(value)\n",
        "\n",
        "    length = len(amount_list)\n",
        "    for i in range(length):\n",
        "        for j in range(0, length - i - 1):\n",
        "            if amount_list[j] < amount_list[j+1]:\n",
        "                amount_list[j], amount_list[j+1] = amount_list[j+1], amount_list[j]\n",
        "\n",
        "    for element in amount_list:\n",
        "        for key in dictionary.keys():\n",
        "          if dictionary[key] == element:\n",
        "            sorted_dict[key] = element\n",
        "\n",
        "    return sorted_dict\n",
        "\n",
        "lst = ['apple','banana','orange','apple','apple','banana', 'orange', 'orange', 'orange', 'orange']\n",
        "print(sort_dictionary(lst))\n"
      ],
      "metadata": {
        "id": "J10PjdVQUbyq",
        "colab": {
          "base_uri": "https://localhost:8080/"
        },
        "outputId": "37fe5f04-5881-46ea-dfd1-65b01b30eed0"
      },
      "execution_count": 6,
      "outputs": [
        {
          "output_type": "stream",
          "name": "stdout",
          "text": [
            "{'orange': 5, 'apple': 3, 'banana': 2}\n"
          ]
        }
      ]
    },
    {
      "cell_type": "markdown",
      "source": [
        "# **Задание 6**"
      ],
      "metadata": {
        "id": "d7fDUr2WcY_G"
      }
    },
    {
      "cell_type": "markdown",
      "source": [
        "Дан словарь, содержащий информацию о людях, необходимо:\n",
        "\n",
        "\n",
        "\n",
        "*   Вывести всех людей старше 30 лет\n",
        "*   Вывести список городов и количество людей из словаря проживающих в них\n",
        "*   Вывести список профессий и список людей для каждой профессии\n",
        "\n",
        "**Критерии**\n",
        "\n",
        "Каждый из пунктов необходимо реализовать в виде функции\n",
        "\n"
      ],
      "metadata": {
        "id": "m11qdVhSWBi7"
      }
    },
    {
      "cell_type": "code",
      "source": [
        "people_info = {\n",
        "    \"Alice\": {\"age\": 25, \"city\": \"New York\", \"occupation\": \"Engineer\"},\n",
        "    \"Bob\": {\"age\": 30, \"city\": \"Los Angeles\", \"occupation\": \"Designer\"},\n",
        "    \"Charlie\": {\"age\": 35, \"city\": \"Chicago\", \"occupation\": \"Teacher\"},\n",
        "    \"Diana\": {\"age\": 28, \"city\": \"Miami\", \"occupation\": \"Doctor\"},\n",
        "    \"Ethan\": {\"age\": 40, \"city\": \"Seattle\", \"occupation\": \"Chef\"},\n",
        "    \"Frank\": {\"age\": 32, \"city\": \"Atlanta\", \"occupation\": \"Lawyer\"},\n",
        "    \"Gabriella\": {\"age\": 29, \"city\": \"San Francisco\", \"occupation\": \"Software Engineer\"},\n",
        "    \"Harrison\": {\"age\": 38, \"city\": \"Denver\", \"occupation\": \"Architect\"},\n",
        "    \"Isabella\": {\"age\": 26, \"city\": \"Washington D.C.\", \"occupation\": \"Journalist\"},\n",
        "    \"Julian\": {\"age\": 42, \"city\": \"Miami\", \"occupation\": \"Musician\"},\n",
        "    \"Kate\": {\"age\": 31, \"city\": \"Philadelphia\", \"occupation\": \"Nurse\"},\n",
        "    \"Lucas\": {\"age\": 36, \"city\": \"Nashville\", \"occupation\": \"Businessman\"},\n",
        "    \"Mia\": {\"age\": 27, \"city\": \"Atlanta\", \"occupation\": \"Artist\"},\n",
        "    \"Natalie\": {\"age\": 39, \"city\": \"Portland\", \"occupation\": \"Writer\"},\n",
        "    \"Oliver\": {\"age\": 44, \"city\": \"Minneapolis\", \"occupation\": \"Professor\"},\n",
        "    \"Penelope\": {\"age\": 33, \"city\": \"San Diego\", \"occupation\": \"Marketing Manager\"},\n",
        "    \"Quincy\": {\"age\": 41, \"city\": \"Nashville\", \"occupation\": \"Singer\"},\n",
        "    \"Rachel\": {\"age\": 34, \"city\": \"Cleveland\", \"occupation\": \"Teacher\"},\n",
        "    \"Sophia\": {\"age\": 29, \"city\": \"Nashville\", \"occupation\": \"Engineer\"},\n",
        "    \"Tessa\": {\"age\": 37, \"city\": \"Miami\", \"occupation\": \"Lawyer\"}\n",
        "}"
      ],
      "metadata": {
        "id": "lSNtB39OWtFl"
      },
      "execution_count": 1,
      "outputs": []
    },
    {
      "cell_type": "code",
      "source": [
        "def filter_age(people_info):\n",
        "    age_filter = 30\n",
        "    people_over_30_years = []\n",
        "\n",
        "    for name in people_info.keys():\n",
        "      if people_info[name]['age'] > age_filter:\n",
        "        people_over_30_years.append(name)\n",
        "\n",
        "    return people_over_30_years\n",
        "\n",
        "\n",
        "def city_count(people_info):\n",
        "    cities_set = set()\n",
        "    city_people_amount = dict()\n",
        "\n",
        "    for name in people_info.keys():\n",
        "      for key in people_info[name].keys():\n",
        "        if key == 'city':\n",
        "          cities_set.add(people_info[name]['city'])\n",
        "\n",
        "    for city in cities_set:\n",
        "      counter = 0\n",
        "      for name in people_info.keys():\n",
        "        if people_info[name]['city'] == city:\n",
        "          counter += 1\n",
        "          city_people_amount[city] = counter\n",
        "\n",
        "    return city_people_amount\n",
        "\n",
        "\n",
        "print(filter_age(people_info))\n",
        "print(city_count(people_info))\n"
      ],
      "metadata": {
        "id": "e-I4RAxfKt6l",
        "colab": {
          "base_uri": "https://localhost:8080/"
        },
        "outputId": "b61cd601-36f8-4f7d-d95e-293d83bbcf54"
      },
      "execution_count": 2,
      "outputs": [
        {
          "output_type": "stream",
          "name": "stdout",
          "text": [
            "['Charlie', 'Ethan', 'Frank', 'Harrison', 'Julian', 'Kate', 'Lucas', 'Natalie', 'Oliver', 'Penelope', 'Quincy', 'Rachel', 'Tessa']\n",
            "{'Miami': 3, 'Chicago': 1, 'Denver': 1, 'Washington D.C.': 1, 'Cleveland': 1, 'Nashville': 3, 'Seattle': 1, 'Portland': 1, 'Atlanta': 2, 'Los Angeles': 1, 'Minneapolis': 1, 'Philadelphia': 1, 'San Diego': 1, 'San Francisco': 1, 'New York': 1}\n"
          ]
        }
      ]
    },
    {
      "cell_type": "code",
      "source": [
        "def profession_list_and_people(people_info):\n",
        "    professions_set = set()\n",
        "    professions_people_dict = dict()\n",
        "\n",
        "    for name in people_info.keys():\n",
        "      for key in people_info[name].keys():\n",
        "        if key == 'occupation':\n",
        "          professions_set.add(people_info[name]['occupation'])\n",
        "\n",
        "    for profession in professions_set:\n",
        "      name_list = []\n",
        "      for name in people_info.keys():\n",
        "        if people_info[name]['occupation'] == profession:\n",
        "          name_list.append(name)\n",
        "      professions_people_dict[profession] = name_list\n",
        "\n",
        "    return professions_people_dict\n",
        "\n",
        "\n",
        "print(profession_list_and_people(people_info))"
      ],
      "metadata": {
        "colab": {
          "base_uri": "https://localhost:8080/"
        },
        "id": "Hzh0ZbH3s0_v",
        "outputId": "05caf22d-3eb6-457f-b613-058962eba9e8"
      },
      "execution_count": 5,
      "outputs": [
        {
          "output_type": "stream",
          "name": "stdout",
          "text": [
            "{'Engineer': ['Alice', 'Sophia'], 'Designer': ['Bob'], 'Chef': ['Ethan'], 'Musician': ['Julian'], 'Software Engineer': ['Gabriella'], 'Architect': ['Harrison'], 'Nurse': ['Kate'], 'Businessman': ['Lucas'], 'Artist': ['Mia'], 'Writer': ['Natalie'], 'Teacher': ['Charlie', 'Rachel'], 'Doctor': ['Diana'], 'Lawyer': ['Frank', 'Tessa'], 'Marketing Manager': ['Penelope'], 'Professor': ['Oliver'], 'Singer': ['Quincy'], 'Journalist': ['Isabella']}\n"
          ]
        }
      ]
    },
    {
      "cell_type": "markdown",
      "source": [
        "# **Задание 7**"
      ],
      "metadata": {
        "id": "27IuB2YScezw"
      }
    },
    {
      "cell_type": "markdown",
      "source": [
        "Задание: Разработка системы отзывов о предметах\n",
        "\n",
        "Описание: Создать программу на Python для хранения и управления отзывами о предметах учебного курса. Программа должна позволять пользователям добавлять, просматривать и удалять отзывы, а также вычислять средний балл по заданному предмету.\n",
        "\n",
        "**Функционал:**\n",
        "\n",
        "*   Добавление отзыва и оценки:\n",
        "   *   Пользователь может ввести название предмета, оценку (от 1 до 5) и текст отзыва.\n",
        "   *   Отзывы должны храниться в структуре данных (например, словаре), где ключом будет название предмета, а значением - список отзывов (каждый отзыв может хранить оценку и комментарий).\n",
        "*   Просмотр отзывов и оценок:\n",
        "   *   Пользователь может запросить отзывы для указанного предмета.\n",
        "   *   Если для указанного предмета есть отзывы, программа должна отобразить список всех отзывов и соответствующих оценок.\n",
        "*   Удаление отзыва:\n",
        "   *   Пользователь может удалить отзыв по индексу. Необходимо заранее уведомить пользователя о том, какие отзывы доступны для удаления.\n",
        "   *   Программа должна обработать ситуацию, когда индекс введен неправильно.\n",
        "*   Вычисление среднего балла по предмету:\n",
        "   *   Пользователь может ввести название предмета, и программа должна вычислить и вывести средний балл по всем отзывам для этого предмета.\n",
        "   *   Если отзывов нет, программа должна сообщить об этом.\n",
        "\n",
        "\n",
        "**Критерии:**\n",
        "\n",
        "*   Код должен быть оформлен в виде функций\n",
        "*   Необходимо обрабатывать неправильный ввод пользователя\n",
        "*   Должны быть комментарии к функциям\n",
        "*   Присутсвует весь дополнительный функционал\n",
        "\n",
        "\n",
        "\n",
        "**Опционально:**\n",
        "\n",
        "Предлагаю вам добавить свои критерии оценки или вопросы, на которые должен ответить студент, чтобы оценить пару\n",
        "\n",
        "\n"
      ],
      "metadata": {
        "id": "Fd95-S9cYhct"
      }
    },
    {
      "cell_type": "code",
      "source": [
        "reviews = {}\n",
        "\n",
        "\n",
        "def add_review(subject, rating, comment):\n",
        "    \"\"\"\n",
        "    Функция добавляет новый отзыв для указанного предмета.\n",
        "\n",
        "    :param subject: Название предмета\n",
        "    :param rating: Оценка (целое число от 1 до 5)\n",
        "    :param comment: Комментарий к отзыву\n",
        "    \"\"\"\n",
        "    if not isinstance(rating, int) or not (1 <= rating <= 5):\n",
        "        print(\"Оценка должна быть целым числом от 1 до 5.\")\n",
        "        return\n",
        "\n",
        "    # Если предмет еще не добавлен в словарь, создаем пустой список\n",
        "    if subject not in reviews:\n",
        "        reviews[subject] = []\n",
        "\n",
        "    # Добавляем отзыв в конец списка\n",
        "    reviews[subject].append((rating, comment))\n",
        "    print(f\"Отзыв успешно добавлен для предмета {subject}.\")\n",
        "\n",
        "\n",
        "def view_reviews(subject):\n",
        "    \"\"\"\n",
        "    Функция выводит все отзывы для указанного предмета.\n",
        "\n",
        "    :param subject: Название предмета\n",
        "    \"\"\"\n",
        "    if subject not in reviews:\n",
        "        print(f\"Нет отзывов для предмета {subject}.\")\n",
        "        return\n",
        "\n",
        "    for i, review in enumerate(reviews[subject]):\n",
        "        print(f\"{i+1}. Оценка: {review[0]}, Отзыв: {review[1]}\")\n",
        "\n",
        "\n",
        "def delete_review(subject, index):\n",
        "    \"\"\"\n",
        "    Функция удаляет отзыв по указанному индексу.\n",
        "\n",
        "    :param subject: Название предмета\n",
        "    :param index: Индекс отзыва (начиная с 1)\n",
        "    \"\"\"\n",
        "    if subject not in reviews:\n",
        "        print(f\"Нет отзывов для предмета {subject}.\")\n",
        "        return\n",
        "\n",
        "    try:\n",
        "        del reviews[subject][index - 1]\n",
        "        print(f\"Отзыв под номером {index} был успешно удален.\")\n",
        "    except IndexError:\n",
        "        print(f\"Неверный индекс отзыва. Доступны отзывы с номерами от 1 до {len(reviews[subject])}.\")\n",
        "\n",
        "\n",
        "def calculate_average_rating(subject):\n",
        "    \"\"\"\n",
        "    Функция вычисляет среднюю оценку для указанного предмета.\n",
        "\n",
        "    :param subject: Название предмета\n",
        "    \"\"\"\n",
        "    if subject not in reviews:\n",
        "        print(f\"Нет отзывов для предмета {subject}.\")\n",
        "        return\n",
        "\n",
        "    total_ratings = sum([review[0] for review in reviews[subject]])\n",
        "    average_rating = total_ratings / len(reviews[subject])\n",
        "    print(f\"Средняя оценка для предмета {subject}: {average_rating:.2f}\")"
      ],
      "metadata": {
        "id": "kzucJrCUa0o7"
      },
      "execution_count": 6,
      "outputs": []
    },
    {
      "cell_type": "code",
      "source": [
        "\n",
        "while True:\n",
        "  print(\"\\nМеню:\")\n",
        "  print(\"1. Добавить отзыв\")\n",
        "  print(\"2. Просмотреть отзывы\")\n",
        "  print(\"3. Удалить отзыв\")\n",
        "  print(\"4. Посчитать средний балл\")\n",
        "  print(\"0. Выход\")\n",
        "\n",
        "  choice = input(\"Введите номер операции: \")\n",
        "\n",
        "  if choice == '0':\n",
        "    break\n",
        "  elif choice == '1':\n",
        "    subject = input(\"Введите название предмета: \")\n",
        "    rating = int(input(\"Введите оценку (от 1 до 5): \"))\n",
        "    comment = input(\"Введите ваш отзыв: \")\n",
        "    add_review(subject, rating, comment)\n",
        "  elif choice == '2':\n",
        "    subject = input(\"Введите название предмета: \")\n",
        "    view_reviews(subject)\n",
        "  elif choice == '3':\n",
        "    subject = input(\"Введите название предмета: \")\n",
        "    index = int(input(\"Введите номер отзыва для удаления: \"))\n",
        "    delete_review(subject, index)\n",
        "  elif choice == '4':\n",
        "    subject = input(\"Введите название предмета: \")\n",
        "    calculate_average_rating(subject)\n",
        "  else:\n",
        "    print(\"Некорректная команда. Попробуйте снова.\")"
      ],
      "metadata": {
        "colab": {
          "base_uri": "https://localhost:8080/"
        },
        "id": "s40DroPzxPl5",
        "outputId": "6ed3b892-6381-491a-ab24-9dedf2f64b5f"
      },
      "execution_count": 7,
      "outputs": [
        {
          "name": "stdout",
          "output_type": "stream",
          "text": [
            "\n",
            "Меню:\n",
            "1. Добавить отзыв\n",
            "2. Просмотреть отзывы\n",
            "3. Удалить отзыв\n",
            "4. Посчитать средний балл\n",
            "0. Выход\n",
            "Введите номер операции: 1\n",
            "Введите название предмета: Математика\n",
            "Введите оценку (от 1 до 5): 1\n",
            "Введите ваш отзыв: пук\n",
            "Отзыв успешно добавлен для предмета Математика.\n",
            "\n",
            "Меню:\n",
            "1. Добавить отзыв\n",
            "2. Просмотреть отзывы\n",
            "3. Удалить отзыв\n",
            "4. Посчитать средний балл\n",
            "0. Выход\n",
            "Введите номер операции: 2\n",
            "Введите название предмета: Математика\n",
            "1. Оценка: 1, Отзыв: пук\n",
            "\n",
            "Меню:\n",
            "1. Добавить отзыв\n",
            "2. Просмотреть отзывы\n",
            "3. Удалить отзыв\n",
            "4. Посчитать средний балл\n",
            "0. Выход\n",
            "Введите номер операции: 3\n",
            "Введите название предмета: Математика\n",
            "Введите номер отзыва для удаления: 1\n",
            "Отзыв под номером 1 был успешно удален.\n",
            "\n",
            "Меню:\n",
            "1. Добавить отзыв\n",
            "2. Просмотреть отзывы\n",
            "3. Удалить отзыв\n",
            "4. Посчитать средний балл\n",
            "0. Выход\n",
            "Введите номер операции: 2\n",
            "Введите название предмета: Математика\n",
            "\n",
            "Меню:\n",
            "1. Добавить отзыв\n",
            "2. Просмотреть отзывы\n",
            "3. Удалить отзыв\n",
            "4. Посчитать средний балл\n",
            "0. Выход\n",
            "Введите номер операции: 1\n",
            "Введите название предмета: Матеша\n",
            "Введите оценку (от 1 до 5): 2\n",
            "Введите ваш отзыв: пук\n",
            "Отзыв успешно добавлен для предмета Матеша.\n",
            "\n",
            "Меню:\n",
            "1. Добавить отзыв\n",
            "2. Просмотреть отзывы\n",
            "3. Удалить отзыв\n",
            "4. Посчитать средний балл\n",
            "0. Выход\n",
            "Введите номер операции: 2\n",
            "Введите название предмета: Матеша\n",
            "1. Оценка: 2, Отзыв: пук\n",
            "\n",
            "Меню:\n",
            "1. Добавить отзыв\n",
            "2. Просмотреть отзывы\n",
            "3. Удалить отзыв\n",
            "4. Посчитать средний балл\n",
            "0. Выход\n",
            "Введите номер операции: 4\n",
            "Введите название предмета: Матеша\n",
            "Средняя оценка для предмета Матеша: 2.00\n",
            "\n",
            "Меню:\n",
            "1. Добавить отзыв\n",
            "2. Просмотреть отзывы\n",
            "3. Удалить отзыв\n",
            "4. Посчитать средний балл\n",
            "0. Выход\n",
            "Введите номер операции: 0\n"
          ]
        }
      ]
    }
  ]
}