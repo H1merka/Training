{
  "nbformat": 4,
  "nbformat_minor": 0,
  "metadata": {
    "colab": {
      "provenance": [],
      "collapsed_sections": [
        "0UoRc9vOD3XT"
      ]
    },
    "kernelspec": {
      "name": "python3",
      "display_name": "Python 3"
    },
    "language_info": {
      "name": "python"
    }
  },
  "cells": [
    {
      "cell_type": "markdown",
      "source": [
        "Ссылка на материалы:  [пдф тут](https://drive.google.com/file/d/16Cm2tgrpuDH8eIdxdSYyOsfDPqnJ3byd/view?usp=sharing)"
      ],
      "metadata": {
        "id": "M9IlAZAPBBm9"
      }
    },
    {
      "cell_type": "markdown",
      "source": [
        "ФИО:Моргенштерн Дмитрий Игоревич"
      ],
      "metadata": {
        "id": "ZLVI_WIcuT56"
      }
    },
    {
      "cell_type": "code",
      "source": [],
      "metadata": {
        "id": "3AfG_Tal0P2S"
      },
      "execution_count": null,
      "outputs": []
    },
    {
      "cell_type": "markdown",
      "source": [
        "## Задание 1. HTTP-запросы, ответы и погода"
      ],
      "metadata": {
        "id": "Gtm1UjYgDlY7"
      }
    },
    {
      "cell_type": "markdown",
      "source": [
        "Описание:\n",
        "\n",
        "Напишите HTTP-запрос для получения информации о погоде в введенном городе из API.\n",
        "\n",
        "Можно использовать API: https://open-meteo.com/. Используйте метод GET.\n",
        "\n",
        "\n",
        "Ввод\n",
        "```\n",
        "56.50, 60.35\n",
        "```\n",
        "\n",
        "Вывод\n",
        "```\n",
        "Сегодня (1.11) погода 20 ◦С, нет осадков, туман\n",
        "```\n",
        "\n",
        "\n",
        "\n"
      ],
      "metadata": {
        "id": "FtjnLNIKzfMZ"
      }
    },
    {
      "cell_type": "code",
      "source": [
        "import requests\n",
        "\n",
        "\n",
        "latitude = float(input('Введите широту города: '))\n",
        "longitude = float(input('Введите долготу города: '))\n",
        "\n",
        "url = f'https://api.open-meteo.com/v1/forecast?latitude={latitude}&longitude={longitude}¤t_weather=true'\n",
        "response = requests.get(url)\n",
        "data = response.json()\n",
        "\n",
        "date = data['current_weather']['time'].split('T')[0]\n",
        "temperature = data['current_weather']['temperature']\n",
        "weather_code = data['current_weather']['weathercode']\n",
        "\n",
        "output = f'Сегодня ({date}) погода {temperature} °C'\n",
        "\n",
        "if weather_code == 45:\n",
        "    output += ', нет осадков, туман'\n",
        "\n",
        "print(output)\n"
      ],
      "metadata": {
        "id": "5Mbs40_buVRV"
      },
      "execution_count": null,
      "outputs": []
    },
    {
      "cell_type": "markdown",
      "source": [
        "## Задание 2. HTTP-запросы, ответы и покемоны"
      ],
      "metadata": {
        "id": "FYjU9WmVDoGs"
      }
    },
    {
      "cell_type": "markdown",
      "source": [
        "**Описание:**\n",
        "\n",
        "\n",
        "Создайте код программы, которая будет взаимодействовать с API, со следующим функионалом:\n",
        "\n",
        "1. Используя метод GET, отправьте запрос на endpoint /pokemon, чтобы получить список первых 20 покемонов\n",
        "\n",
        "2. Извлеките имена покемонов из ответа и выведите их списком\n",
        "\n",
        "3. Введите с помощью input() название одного из покемонов\n",
        "\n",
        "\n",
        "```\n",
        "Имя покемона: clefairy\n",
        "```\n",
        "\n",
        "\n",
        "\n",
        "4. Отправьте GET-запрос, чтобы получить полную информацию о выбранном покемоне\n",
        "\n",
        "5. Извлеките и выведите следующие данные о введенном покемоне:\n",
        "\n",
        "     • Имя\n",
        "\n",
        "     • Тип\n",
        "\n",
        "     • Вес\n",
        "\n",
        "     • Рост\n",
        "\n",
        "     • Способности\n",
        "\n",
        "Используйте PokéAPI (https://pokeapi.co/), который предоставляет информацию о покемонах, их характеристиках, типах и другую информацию."
      ],
      "metadata": {
        "id": "oZ1guEbl0PZm"
      }
    },
    {
      "cell_type": "code",
      "source": [
        "import requests\n",
        "\n",
        "\n",
        "flag1 = True\n",
        "\n",
        "while flag1:\n",
        "    response = requests.get('https://pokeapi.co/api/v2/pokemon?limit=20')\n",
        "    if response.status_code == 200:\n",
        "        pokemon_data = response.json()\n",
        "        flag1 = False\n",
        "    else:\n",
        "        print('Ошибка при получении списка покемонов. Повтор запроса.')\n",
        "\n",
        "pokemon_names = [pokemon['name'] for pokemon in pokemon_data['results']]\n",
        "\n",
        "print('Покемоны:')\n",
        "\n",
        "for pokemon in pokemon_names:\n",
        "    print(pokemon)\n",
        "\n",
        "chosen_pokemon = input('Введите имя покемона: ').lower()\n",
        "\n",
        "flag2 = True\n",
        "\n",
        "while flag2:\n",
        "    response = requests.get(f'https://pokeapi.co/api/v2/pokemon/{chosen_pokemon}/')\n",
        "    if response.status_code == 200:\n",
        "        pokemon_info = response.json()\n",
        "        flag2 = False\n",
        "    else:\n",
        "        print('Не удалось получить информацию о покемоне')\n",
        "\n",
        "name = chosen_pokemon\n",
        "types = [type['type']['name'] for type in pokemon_info['types']]\n",
        "weight = pokemon_info['weight']\n",
        "height = pokemon_info['height']\n",
        "abilities = [ability['ability']['name'] for ability in pokemon_info['abilities']]\n",
        "\n",
        "print(f'\\nИмя: {name}')\n",
        "print(f'Тип: {\", \".join(types)}')\n",
        "print(f'Вес: {weight / 10} кг')\n",
        "print(f'Рост: {height * 10} см')\n",
        "print(f'Способности: {\", \".join(abilities)}')"
      ],
      "metadata": {
        "id": "JkFmivjp25NL",
        "colab": {
          "base_uri": "https://localhost:8080/"
        },
        "outputId": "00a8043a-e8a1-485e-9005-b54ab4864b41"
      },
      "execution_count": 5,
      "outputs": [
        {
          "output_type": "stream",
          "name": "stdout",
          "text": [
            "Покемоны:\n",
            "bulbasaur\n",
            "ivysaur\n",
            "venusaur\n",
            "charmander\n",
            "charmeleon\n",
            "charizard\n",
            "squirtle\n",
            "wartortle\n",
            "blastoise\n",
            "caterpie\n",
            "metapod\n",
            "butterfree\n",
            "weedle\n",
            "kakuna\n",
            "beedrill\n",
            "pidgey\n",
            "pidgeotto\n",
            "pidgeot\n",
            "rattata\n",
            "raticate\n",
            "Введите имя покемона: rattata\n",
            "\n",
            "Имя: rattata\n",
            "Тип: normal\n",
            "Вес: 3.5 кг\n",
            "Рост: 30 см\n",
            "Способности: run-away, guts, hustle\n"
          ]
        }
      ]
    },
    {
      "cell_type": "markdown",
      "source": [
        "## Задание 3. HTTP-запросы, ответы и посты"
      ],
      "metadata": {
        "id": "Ci07uZdADue9"
      }
    },
    {
      "cell_type": "markdown",
      "source": [
        "**Описание:**\n",
        "\n",
        "Создайте программу, которая будет взаимодействовать с JSONPlaceholder API, реализуя следующие функции:\n",
        "\n",
        "1. Реализуйте функцию, которая выполняет GET-запрос к https://jsonplaceholder.typicode.com/posts и возвращает список постов в формате JSON\n",
        "\n",
        "2. Реализуйте функцию, котороая получает вводимое ID поста, выполняет GET-запрос по ID и возвращает данные поста в формате JSON\n",
        "\n",
        "3. Реализуйте функцию, которая выполняет обработку JSON из пункта 2 и выводит всю важную информацию в консоль"
      ],
      "metadata": {
        "id": "h194KTer1-B3"
      }
    },
    {
      "cell_type": "code",
      "source": [
        "import requests\n",
        "\n",
        "\n",
        "def get_posts():\n",
        "    \"\"\"Функция выполняет запрос и возвращает списко постов в формате JSON.\"\"\"\n",
        "    url = 'https://jsonplaceholder.typicode.com/posts'\n",
        "    response = requests.get(url)\n",
        "    if response.status_code == 200:\n",
        "        posts = response.json()\n",
        "        return posts\n",
        "    else:\n",
        "        print('Ошибка при получении списка постов')\n",
        "\n",
        "\n",
        "def get_post(post_id):\n",
        "    \"\"\"Функция получает id поста, выполняет запрос и возвращает данные в формате JSON.\"\"\"\n",
        "    url = f'https://jsonplaceholder.typicode.com/posts/{post_id}'\n",
        "    response = requests.get(url)\n",
        "    if response.status_code == 200:\n",
        "        post = response.json()\n",
        "        return post\n",
        "    else:\n",
        "        print(f'Ошибка при получении поста с id {post_id}')\n",
        "\n",
        "\n",
        "def process_post(post):\n",
        "    \"\"\"Функция получает JSON и выводит всю важную информацию в консоль.\"\"\"\n",
        "    if post:\n",
        "        print(f'ID: {post[\"id\"]}')\n",
        "        print(f'User ID: {post[\"userId\"]}')\n",
        "        print(f'Title: {post[\"title\"]}')\n",
        "        print(f'Body: {post[\"body\"]}')\n",
        "    else:\n",
        "        print('Пост не найден')\n",
        "\n",
        "\n",
        "posts = get_posts()\n",
        "if posts:\n",
        "    for post in posts[:10]:\n",
        "        print(f'ID: {post[\"id\"]}, Title: {post[\"title\"]}')\n",
        "\n",
        "    post_id = int(input('Введите ID поста: '))\n",
        "    post = get_post(post_id)\n",
        "    process_post(post)\n",
        "else:\n",
        "    print(\"Не удалось получить список постов\")"
      ],
      "metadata": {
        "id": "YANQx4o258Zn",
        "colab": {
          "base_uri": "https://localhost:8080/"
        },
        "outputId": "9a0017cb-1efe-4ae1-b7e7-3b023c095336"
      },
      "execution_count": 7,
      "outputs": [
        {
          "output_type": "stream",
          "name": "stdout",
          "text": [
            "ID: 1, Title: sunt aut facere repellat provident occaecati excepturi optio reprehenderit\n",
            "ID: 2, Title: qui est esse\n",
            "ID: 3, Title: ea molestias quasi exercitationem repellat qui ipsa sit aut\n",
            "ID: 4, Title: eum et est occaecati\n",
            "ID: 5, Title: nesciunt quas odio\n",
            "ID: 6, Title: dolorem eum magni eos aperiam quia\n",
            "ID: 7, Title: magnam facilis autem\n",
            "ID: 8, Title: dolorem dolore est ipsam\n",
            "ID: 9, Title: nesciunt iure omnis dolorem tempora et accusantium\n",
            "ID: 10, Title: optio molestias id quia eum\n",
            "Введите ID поста: 2\n",
            "ID: 2\n",
            "User ID: 1\n",
            "Title: qui est esse\n",
            "Body: est rerum tempore vitae\n",
            "sequi sint nihil reprehenderit dolor beatae ea dolores neque\n",
            "fugiat blanditiis voluptate porro vel nihil molestiae ut reiciendis\n",
            "qui aperiam non debitis possimus qui neque nisi nulla\n"
          ]
        }
      ]
    },
    {
      "cell_type": "markdown",
      "source": [
        "## Задание 4. HTTP-запросы, ответы и работа с постами"
      ],
      "metadata": {
        "id": "rtwepQvJDy9N"
      }
    },
    {
      "cell_type": "markdown",
      "source": [
        "**Описание**\n",
        "\n",
        "Создайте программу, которая будет взаимодействовать с JSONPlaceholder API (из предыдущего задания), реализуя новые функции:\n",
        "\n",
        "1. Реализуйте функцию, которая принимает заголовок, содержимое и ID пользователя (информация вводится с помощью input()), выполняет POST-запрос для создания нового поста и возвращает информацию о созданном посте в формате JSON\n",
        "\n",
        "\n",
        "```\n",
        "Заголовок: Новый пост\n",
        "Содержимое поста: Тут должно находиться содержимое нового поста...\n",
        "ID пользователя: 10\n",
        "```\n",
        "\n",
        "\n",
        "\n",
        "2. Реализуйте функцию, которая принимает ID поста, новый заголовок и новое содержимое, выполняет PUT-запрос и возвращает обновлённый пост в формате JSON\n",
        "\n",
        "3. Реализуйте функцию, которая принимает ID поста, выполняет DELETE-запрос и возвращает статус-код ответа"
      ],
      "metadata": {
        "id": "4MjiaxDM58ta"
      }
    },
    {
      "cell_type": "code",
      "source": [
        "import requests\n",
        "\n",
        "\n",
        "def create_post(title, body, user_id):\n",
        "    \"\"\"Функция для создания нового поста\"\"\"\n",
        "    url = 'https://jsonplaceholder.typicode.com/posts'\n",
        "\n",
        "    data = {\n",
        "        'title': title,\n",
        "        'body': body,\n",
        "        'userId': user_id\n",
        "    }\n",
        "\n",
        "    response = requests.post(url, json=data)\n",
        "\n",
        "    if response.status_code == 201:\n",
        "        print(f'Пост успешно создан! Информация о новом посте:\\n{response.json()}')\n",
        "    else:\n",
        "        print(f'Ошибка при создании поста. Код статуса: {response.status_code}')\n",
        "\n",
        "\n",
        "def update_post(post_id, new_title, new_body):\n",
        "    \"\"\"Функция для обновления поста.\"\"\"\n",
        "    url = f'https://jsonplaceholder.typicode.com/posts/{post_id}'\n",
        "\n",
        "    data = {\n",
        "        'id': post_id,\n",
        "        'title': new_title,\n",
        "        'body': new_body,\n",
        "        'userId': 1\n",
        "    }\n",
        "\n",
        "    response = requests.put(url, json=data)\n",
        "\n",
        "    if response.status_code == 200:\n",
        "        print(f'Пост успешно обновлен! Обновленная информация:\\n{response.json()}')\n",
        "    else:\n",
        "        print(f'Ошибка при обновлении поста. Код статуса: {response.status_code}')\n",
        "\n",
        "\n",
        "def delete_post(post_id):\n",
        "    \"\"\"Функция для удаления поста.\"\"\"\n",
        "    url = f'https://jsonplaceholder.typicode.com/posts/{post_id}'\n",
        "\n",
        "    response = requests.delete(url)\n",
        "\n",
        "    if response.status_code == 200:\n",
        "        print(f'Пост успешно удален! Статус-код ответа: {response.status_code}')\n",
        "    else:\n",
        "        print(f'Ошибка при удалении поста. Код статуса: {response.status_code}')\n",
        "\n",
        "\n",
        "# Пример использования функций.\n",
        "create_post('Новый пост', 'Тут должно находиться содержимое нового поста...', 10)\n",
        "\n",
        "# Обновление существующего поста.\n",
        "update_post(101, 'Обновленный заголовок', 'Новое содержание поста...')\n",
        "\n",
        "# Удаление поста.\n",
        "delete_post(102)"
      ],
      "metadata": {
        "id": "jZUIdwq96DNl",
        "colab": {
          "base_uri": "https://localhost:8080/"
        },
        "outputId": "dc37251a-1df3-4af7-a43a-dd351222ab6b"
      },
      "execution_count": 8,
      "outputs": [
        {
          "output_type": "stream",
          "name": "stdout",
          "text": [
            "Пост успешно создан! Информация о новом посте:\n",
            "{'title': 'Новый пост', 'body': 'Тут должно находиться содержимое нового поста...', 'userId': 10, 'id': 101}\n",
            "Ошибка при обновлении поста. Код статуса: 500\n",
            "Пост успешно удален! Статус-код ответа: 200\n"
          ]
        }
      ]
    },
    {
      "cell_type": "markdown",
      "source": [
        "## Задание 5. HTTP-запросы, ответы и пёсики"
      ],
      "metadata": {
        "id": "0UoRc9vOD3XT"
      }
    },
    {
      "cell_type": "markdown",
      "source": [
        "**Описание**\n",
        "\n",
        "Создайте программу, которая будет взаимодействовать с Dog API, которая позволит получать список пород собак, вводить несколько пород и получать их фотогрфии.\n",
        "\n",
        "Этапы:\n",
        "\n",
        "1. Создайте функцию, которая использует метод GET и возвращает список всех пород собак в формате нумерованного списка\n",
        "\n",
        "2. Реализуйте возможность ввода нескольких пород собак через запятую\n",
        "\n",
        "\n",
        "```\n",
        "african, chow, dingo\n",
        "```\n",
        "\n",
        "\n",
        "\n",
        "3. Создание функции, которая реализует запрос, возвращает и выводит изображениия собак, породы которых были введены до этого\n",
        "\n",
        "\n",
        "Используйте Dog API (https://dog.ceo/dog-api/), который предоставляет информацию о породах собак и их изображения.\n"
      ],
      "metadata": {
        "id": "y0EyPsFQ6mSZ"
      }
    },
    {
      "cell_type": "markdown",
      "source": [
        "*Подсказка*\n",
        "\n",
        "\n",
        "\n",
        "```\n",
        "import requests\n",
        "from PIL import Image\n",
        "from IPython.display import display\n",
        "import io\n",
        "\n",
        "url = <____>\n",
        "response = <____>\n",
        "        \n",
        "if response.<______> == <___>:\n",
        "      image_url = response.json()['message']\n",
        "\n",
        "res = requests.<__>(image_url)\n",
        "img = Image.open(io.BytesIO(res.content))\n",
        "display(img)\n",
        "```\n",
        "\n"
      ],
      "metadata": {
        "id": "yrKv5k13AKEP"
      }
    },
    {
      "cell_type": "code",
      "source": [],
      "metadata": {
        "id": "5xti3KRP4Kzp"
      },
      "execution_count": null,
      "outputs": []
    }
  ]
}